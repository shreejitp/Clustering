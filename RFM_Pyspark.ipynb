{
 "cells": [
  {
   "cell_type": "markdown",
   "metadata": {
    "colab": {
     "base_uri": "https://localhost:8080/",
     "height": 238
    },
    "colab_type": "code",
    "id": "U-6g4VNE0jto",
    "outputId": "a1fd7c71-1f13-4c10-b2bc-8e4ca9cb36e1"
   },
   "source": [
    "# RFM ANALYSIS on Ecommerce Data "
   ]
  },
  {
   "cell_type": "markdown",
   "metadata": {},
   "source": [
    "Author: Shreejit Pillai\n",
    "\n",
    "Data: 2020-06-27\n",
    "\n",
    "References- Book - Learning Apache Spark With Python //Chapter 13  \n",
    "            https://runawayhorse001.github.io/LearningApacheSpark/rfm.html\n",
    "\n",
    "Dataset   - https://www.kaggle.com/carrie1/ecommerce-data\n",
    "\n",
    "Notes     -      "
   ]
  },
  {
   "cell_type": "code",
   "execution_count": null,
   "metadata": {},
   "outputs": [],
   "source": []
  },
  {
   "cell_type": "code",
   "execution_count": null,
   "metadata": {},
   "outputs": [],
   "source": [
    "!pip install pyspark"
   ]
  },
  {
   "cell_type": "code",
   "execution_count": 2,
   "metadata": {
    "colab": {},
    "colab_type": "code",
    "id": "-_-8JApB26R1"
   },
   "outputs": [],
   "source": [
    "from pyspark.sql import SparkSession\n",
    "spark = SparkSession \\\n",
    "    .builder \\\n",
    "    .appName(\"Python Spark RFM example\") \\\n",
    "    .config(\"spark.some.config.option\", \"some-value\") \\\n",
    "    .getOrCreate()"
   ]
  },
  {
   "cell_type": "code",
   "execution_count": 3,
   "metadata": {
    "colab": {},
    "colab_type": "code",
    "id": "wfB2EAFV3JGW"
   },
   "outputs": [],
   "source": [
    "df_raw = spark.read.format('com.databricks.spark.csv').\\\n",
    "                       options(header='true', \\\n",
    "                       inferschema='true').\\\n",
    "            load(\"/Users/spillai/Downloads/rfm_data2.csv\",header=True);\n"
   ]
  },
  {
   "cell_type": "markdown",
   "metadata": {
    "colab_type": "text",
    "id": "AlLSyrf95xKG"
   },
   "source": [
    "Check the dataset"
   ]
  },
  {
   "cell_type": "code",
   "execution_count": 4,
   "metadata": {
    "colab": {
     "base_uri": "https://localhost:8080/",
     "height": 187
    },
    "colab_type": "code",
    "id": "woTOc2lP5L5h",
    "outputId": "663128ef-9803-405f-e46c-fb58bd348601"
   },
   "outputs": [
    {
     "name": "stdout",
     "output_type": "stream",
     "text": [
      "root\n",
      " |-- InvoiceNo: string (nullable = true)\n",
      " |-- StockCode: string (nullable = true)\n",
      " |-- Description: string (nullable = true)\n",
      " |-- Quantity: integer (nullable = true)\n",
      " |-- InvoiceDate: timestamp (nullable = true)\n",
      " |-- UnitPrice: double (nullable = true)\n",
      " |-- CustomerID: integer (nullable = true)\n",
      " |-- Country: string (nullable = true)\n",
      "\n"
     ]
    }
   ],
   "source": [
    "df_raw.printSchema()"
   ]
  },
  {
   "cell_type": "code",
   "execution_count": 5,
   "metadata": {
    "colab": {
     "base_uri": "https://localhost:8080/",
     "height": 204
    },
    "colab_type": "code",
    "id": "x0p36keG522W",
    "outputId": "7f875dfa-89bc-4e52-895d-ed5fd9ea89e7"
   },
   "outputs": [
    {
     "name": "stdout",
     "output_type": "stream",
     "text": [
      "+---------+---------+--------------------+--------+-------------------+---------+----------+--------------+\n",
      "|InvoiceNo|StockCode|         Description|Quantity|        InvoiceDate|UnitPrice|CustomerID|       Country|\n",
      "+---------+---------+--------------------+--------+-------------------+---------+----------+--------------+\n",
      "|   536365|   85123A|WHITE HANGING HEA...|       6|2010-12-01 00:00:00|     2.55|     17850|United Kingdom|\n",
      "|   536365|    71053| WHITE METAL LANTERN|       6|2010-12-01 00:00:00|     3.39|     17850|United Kingdom|\n",
      "|   536365|   84406B|CREAM CUPID HEART...|       8|2010-12-01 00:00:00|     2.75|     17850|United Kingdom|\n",
      "|   536365|   84029G|KNITTED UNION FLA...|       6|2010-12-01 00:00:00|     3.39|     17850|United Kingdom|\n",
      "|   536365|   84029E|RED WOOLLY HOTTIE...|       6|2010-12-01 00:00:00|     3.39|     17850|United Kingdom|\n",
      "+---------+---------+--------------------+--------+-------------------+---------+----------+--------------+\n",
      "only showing top 5 rows\n",
      "\n"
     ]
    }
   ],
   "source": [
    "df_raw.show(5)"
   ]
  },
  {
   "cell_type": "markdown",
   "metadata": {
    "colab_type": "text",
    "id": "xq8zIGH_6FUs"
   },
   "source": [
    "Data Cleaning"
   ]
  },
  {
   "cell_type": "code",
   "execution_count": 6,
   "metadata": {
    "colab": {},
    "colab_type": "code",
    "id": "quRGcJrG55sJ"
   },
   "outputs": [],
   "source": [
    "from pyspark.sql.functions import count\n",
    "\n",
    "def my_count(df_in):\n",
    "    df_in.agg( *[ count(c).alias(c) for c in df_in.columns ] ).show()"
   ]
  },
  {
   "cell_type": "code",
   "execution_count": 7,
   "metadata": {
    "colab": {
     "base_uri": "https://localhost:8080/",
     "height": 119
    },
    "colab_type": "code",
    "id": "pdOqM6uo6J7R",
    "outputId": "1bfe0af6-8ce5-4bf5-e049-475ad20c5299"
   },
   "outputs": [
    {
     "name": "stdout",
     "output_type": "stream",
     "text": [
      "+---------+---------+-----------+--------+-----------+---------+----------+-------+\n",
      "|InvoiceNo|StockCode|Description|Quantity|InvoiceDate|UnitPrice|CustomerID|Country|\n",
      "+---------+---------+-----------+--------+-----------+---------+----------+-------+\n",
      "|   541909|   541909|     540455|  541909|     541909|   541909|    406829| 541909|\n",
      "+---------+---------+-----------+--------+-----------+---------+----------+-------+\n",
      "\n"
     ]
    }
   ],
   "source": [
    "my_count(df_raw)"
   ]
  },
  {
   "cell_type": "markdown",
   "metadata": {
    "colab_type": "text",
    "id": "sCVK_MhR6Sug"
   },
   "source": [
    "Dropping NULL from the dataset"
   ]
  },
  {
   "cell_type": "code",
   "execution_count": 37,
   "metadata": {
    "colab": {
     "base_uri": "https://localhost:8080/",
     "height": 119
    },
    "colab_type": "code",
    "id": "YQYYCBo-6LhD",
    "outputId": "d08104b9-6bf6-4830-93b4-86076aa319d1"
   },
   "outputs": [
    {
     "name": "stdout",
     "output_type": "stream",
     "text": [
      "+---------+---------+-----------+--------+-----------+---------+----------+-------+\n",
      "|InvoiceNo|StockCode|Description|Quantity|InvoiceDate|UnitPrice|CustomerID|Country|\n",
      "+---------+---------+-----------+--------+-----------+---------+----------+-------+\n",
      "|   406829|   406829|     406829|  406829|     406829|   406829|    406829| 406829|\n",
      "+---------+---------+-----------+--------+-----------+---------+----------+-------+\n",
      "\n"
     ]
    }
   ],
   "source": [
    "df = df_raw.dropna(how='any')\n",
    "my_count(df)"
   ]
  },
  {
   "cell_type": "markdown",
   "metadata": {},
   "source": [
    "Using a subset of the data for Analysis"
   ]
  },
  {
   "cell_type": "code",
   "execution_count": 39,
   "metadata": {},
   "outputs": [],
   "source": [
    "#import org.apache.spark.sql.functions.rand\n",
    "df=df.orderBy(rand()).limit(20000)"
   ]
  },
  {
   "cell_type": "code",
   "execution_count": 40,
   "metadata": {},
   "outputs": [
    {
     "name": "stdout",
     "output_type": "stream",
     "text": [
      "+---------+---------+-----------+--------+-----------+---------+----------+-------+\n",
      "|InvoiceNo|StockCode|Description|Quantity|InvoiceDate|UnitPrice|CustomerID|Country|\n",
      "+---------+---------+-----------+--------+-----------+---------+----------+-------+\n",
      "|    20000|    20000|      20000|   20000|      20000|    20000|     20000|  20000|\n",
      "+---------+---------+-----------+--------+-----------+---------+----------+-------+\n",
      "\n"
     ]
    }
   ],
   "source": [
    "my_count(df)"
   ]
  },
  {
   "cell_type": "markdown",
   "metadata": {
    "colab_type": "text",
    "id": "AhiSIKTN9HJx"
   },
   "source": [
    "Dealwith the InvoiceDate"
   ]
  },
  {
   "cell_type": "code",
   "execution_count": 41,
   "metadata": {
    "colab": {},
    "colab_type": "code",
    "id": "vCDTFrjR6bgz"
   },
   "outputs": [],
   "source": [
    "from pyspark.sql.functions import to_utc_timestamp, unix_timestamp, lit, datediff, col\n",
    "\n",
    "timeFmt = \"yyyy-MM-dd\"\n",
    "\n",
    "df = df.withColumn('NewInvoiceDate'\n",
    "                 , to_utc_timestamp(unix_timestamp(col('InvoiceDate'),timeFmt).cast('timestamp')\n",
    "                 , 'UTC'))  "
   ]
  },
  {
   "cell_type": "markdown",
   "metadata": {
    "colab_type": "text",
    "id": "4hmJJ9yxCXnK"
   },
   "source": [
    "Calculate Total Price"
   ]
  },
  {
   "cell_type": "code",
   "execution_count": 42,
   "metadata": {
    "colab": {},
    "colab_type": "code",
    "id": "t0iSYm3KBDrl"
   },
   "outputs": [],
   "source": [
    "from pyspark.sql.functions import round\n",
    "\n",
    "df = df.withColumn('TotalPrice', round( df.Quantity * df.UnitPrice, 2 ) )"
   ]
  },
  {
   "cell_type": "code",
   "execution_count": 43,
   "metadata": {},
   "outputs": [],
   "source": [
    "from pyspark.sql.functions import mean, min, max, sum, datediff, to_date\n",
    "date_max = df.select(max('NewInvoiceDate')).toPandas()"
   ]
  },
  {
   "cell_type": "code",
   "execution_count": 44,
   "metadata": {},
   "outputs": [
    {
     "data": {
      "text/plain": [
       "Timestamp('2011-12-09 00:00:00')"
      ]
     },
     "execution_count": 44,
     "metadata": {},
     "output_type": "execute_result"
    }
   ],
   "source": [
    "date_max.iloc[0][0]"
   ]
  },
  {
   "cell_type": "code",
   "execution_count": 45,
   "metadata": {},
   "outputs": [],
   "source": [
    "# Calculatre Duration\n",
    "df = df.withColumn('Duration', datediff(lit(date_max.iloc[0][0]), 'NewInvoiceDate'))"
   ]
  },
  {
   "cell_type": "code",
   "execution_count": 46,
   "metadata": {
    "colab": {
     "base_uri": "https://localhost:8080/",
     "height": 170
    },
    "colab_type": "code",
    "id": "xez6ZVJND0Cg",
    "outputId": "4247e98f-b050-4d61-9091-e4a0014c8e06"
   },
   "outputs": [
    {
     "name": "stdout",
     "output_type": "stream",
     "text": [
      "+---------+---------+--------------------+--------+-------------------+---------+----------+--------------+-------------------+----------+--------+\n",
      "|InvoiceNo|StockCode|         Description|Quantity|        InvoiceDate|UnitPrice|CustomerID|       Country|     NewInvoiceDate|TotalPrice|Duration|\n",
      "+---------+---------+--------------------+--------+-------------------+---------+----------+--------------+-------------------+----------+--------+\n",
      "|   539075|    22970|LONDON BUS COFFEE...|       3|2010-12-15 00:00:00|     2.55|     17189|United Kingdom|2010-12-15 00:00:00|      7.65|     359|\n",
      "|   552816|    22456|NATURAL SLATE CHA...|       1|2011-05-11 00:00:00|     4.95|     15521|United Kingdom|2011-05-11 00:00:00|      4.95|     212|\n",
      "|   575637|    23147|SINGLE ANTIQUE RO...|       2|2011-11-10 00:00:00|     1.45|     16904|United Kingdom|2011-11-10 00:00:00|       2.9|      29|\n",
      "+---------+---------+--------------------+--------+-------------------+---------+----------+--------------+-------------------+----------+--------+\n",
      "only showing top 3 rows\n",
      "\n"
     ]
    }
   ],
   "source": [
    "df.show(3)"
   ]
  },
  {
   "cell_type": "markdown",
   "metadata": {
    "colab_type": "text",
    "id": "z8REsq47LQvM"
   },
   "source": [
    "Building the Recency, Frequency and Monetary"
   ]
  },
  {
   "cell_type": "code",
   "execution_count": 47,
   "metadata": {
    "colab": {},
    "colab_type": "code",
    "id": "k2Je6XfHDLU3"
   },
   "outputs": [],
   "source": [
    "recency = df.groupBy('CustomerID').agg(min('Duration').alias('Recency'))\n",
    "frequency = df.groupBy('CustomerID', 'InvoiceNo').count()\\\n",
    "                        .groupBy('CustomerID')\\\n",
    "                        .agg(count(\"*\").alias(\"Frequency\"))\n",
    "monetary = df.groupBy('CustomerID').agg(round(sum('TotalPrice'), 2).alias('Monetary'))\n",
    "rfm = recency.join(frequency,'CustomerID', how = 'inner')\\\n",
    "             .join(monetary,'CustomerID', how = 'inner')"
   ]
  },
  {
   "cell_type": "code",
   "execution_count": 48,
   "metadata": {
    "colab": {
     "base_uri": "https://localhost:8080/",
     "height": 204
    },
    "colab_type": "code",
    "id": "E0CDFXs7L1Yj",
    "outputId": "47130070-df38-49fa-b15f-c2cf7c119b8d"
   },
   "outputs": [
    {
     "name": "stdout",
     "output_type": "stream",
     "text": [
      "+----------+-------+---------+--------+\n",
      "|CustomerID|Recency|Frequency|Monetary|\n",
      "+----------+-------+---------+--------+\n",
      "|     17189|    106|        2|    32.3|\n",
      "|     15521|     40|        4|   43.55|\n",
      "|     16904|      4|       13|  171.35|\n",
      "|     12528|      9|        3|  120.66|\n",
      "|     12766|      3|        4|  174.87|\n",
      "+----------+-------+---------+--------+\n",
      "only showing top 5 rows\n",
      "\n"
     ]
    }
   ],
   "source": [
    "rfm.show(5)"
   ]
  },
  {
   "cell_type": "markdown",
   "metadata": {
    "colab_type": "text",
    "id": "rxmlIUWkMCdj"
   },
   "source": [
    "Determining Cut points\n",
    "\n",
    "In this section, you can use the techniques (statistical results and visualizations) in Data Exploration section to help you determine the cutting points for each attribute. In my opinion, the cutting points are mainly depend on the business sense. You’s better talk to your marketing people and get feedback and suggestion from them. "
   ]
  },
  {
   "cell_type": "markdown",
   "metadata": {
    "colab_type": "text",
    "id": "vDj14t9oMfmv"
   },
   "source": [
    "You may find out that the default function in PySpark does not include the quartiles. The following function will help you to get the same results in Pandas"
   ]
  },
  {
   "cell_type": "code",
   "execution_count": 49,
   "metadata": {
    "colab": {},
    "colab_type": "code",
    "id": "r9qKRGvIMa2f"
   },
   "outputs": [],
   "source": [
    "def describe_pd(df_in, columns, deciles=False):\n",
    "    '''\n",
    "    Function to union the basic stats results and deciles\n",
    "    :param df_in: the input dataframe\n",
    "    :param columns: the cloumn name list of the numerical variable\n",
    "    :param deciles: the deciles output\n",
    "\n",
    "    :return : the numerical describe info. of the input dataframe\n",
    "\n",
    "    :author: Ming Chen and Wenqiang Feng\n",
    "    :email:  von198@gmail.com\n",
    "    '''\n",
    "\n",
    "    if deciles:\n",
    "        percentiles = np.array(range(0, 110, 10))\n",
    "    else:\n",
    "        percentiles = [25, 50, 75]\n",
    "\n",
    "    percs = np.transpose([np.percentile(df_in.select(x).collect(), percentiles) for x in columns])\n",
    "    percs = pd.DataFrame(percs, columns=columns)\n",
    "    percs['summary'] = [str(p) + '%' for p in percentiles]\n",
    "\n",
    "    spark_describe = df_in.describe().toPandas()\n",
    "    new_df = pd.concat([spark_describe, percs],ignore_index=True)\n",
    "    new_df = new_df.round(2)\n",
    "    return new_df[['summary'] + columns]"
   ]
  },
  {
   "cell_type": "code",
   "execution_count": 51,
   "metadata": {
    "colab": {
     "base_uri": "https://localhost:8080/",
     "height": 545
    },
    "colab_type": "code",
    "id": "cw9FH7o8L2u6",
    "outputId": "b2874814-2f85-4b93-c183-0ca53a841ec1"
   },
   "outputs": [
    {
     "name": "stderr",
     "output_type": "stream",
     "text": [
      "/Users/spillai/anaconda3/lib/python3.7/site-packages/ipykernel_launcher.py:24: FutureWarning: Sorting because non-concatenation axis is not aligned. A future version\n",
      "of pandas will change to not sort by default.\n",
      "\n",
      "To accept the future behavior, pass 'sort=False'.\n",
      "\n",
      "To retain the current behavior and silence the warning, pass 'sort=True'.\n",
      "\n"
     ]
    },
    {
     "data": {
      "text/html": [
       "<div>\n",
       "<style scoped>\n",
       "    .dataframe tbody tr th:only-of-type {\n",
       "        vertical-align: middle;\n",
       "    }\n",
       "\n",
       "    .dataframe tbody tr th {\n",
       "        vertical-align: top;\n",
       "    }\n",
       "\n",
       "    .dataframe thead th {\n",
       "        text-align: right;\n",
       "    }\n",
       "</style>\n",
       "<table border=\"1\" class=\"dataframe\">\n",
       "  <thead>\n",
       "    <tr style=\"text-align: right;\">\n",
       "      <th></th>\n",
       "      <th>summary</th>\n",
       "      <th>Recency</th>\n",
       "      <th>Frequency</th>\n",
       "      <th>Monetary</th>\n",
       "    </tr>\n",
       "  </thead>\n",
       "  <tbody>\n",
       "    <tr>\n",
       "      <td>0</td>\n",
       "      <td>count</td>\n",
       "      <td>3288</td>\n",
       "      <td>3288</td>\n",
       "      <td>3288</td>\n",
       "    </tr>\n",
       "    <tr>\n",
       "      <td>1</td>\n",
       "      <td>mean</td>\n",
       "      <td>102.10492700729927</td>\n",
       "      <td>3.0173357664233578</td>\n",
       "      <td>96.67289537712955</td>\n",
       "    </tr>\n",
       "    <tr>\n",
       "      <td>2</td>\n",
       "      <td>stddev</td>\n",
       "      <td>102.36759878724881</td>\n",
       "      <td>4.972636161318731</td>\n",
       "      <td>1428.640749161816</td>\n",
       "    </tr>\n",
       "    <tr>\n",
       "      <td>3</td>\n",
       "      <td>min</td>\n",
       "      <td>0</td>\n",
       "      <td>1</td>\n",
       "      <td>-77183.6</td>\n",
       "    </tr>\n",
       "    <tr>\n",
       "      <td>4</td>\n",
       "      <td>max</td>\n",
       "      <td>373</td>\n",
       "      <td>130</td>\n",
       "      <td>15046.01</td>\n",
       "    </tr>\n",
       "    <tr>\n",
       "      <td>5</td>\n",
       "      <td>25%</td>\n",
       "      <td>22</td>\n",
       "      <td>1</td>\n",
       "      <td>18.545</td>\n",
       "    </tr>\n",
       "    <tr>\n",
       "      <td>6</td>\n",
       "      <td>50%</td>\n",
       "      <td>61</td>\n",
       "      <td>2</td>\n",
       "      <td>45</td>\n",
       "    </tr>\n",
       "    <tr>\n",
       "      <td>7</td>\n",
       "      <td>75%</td>\n",
       "      <td>163</td>\n",
       "      <td>3</td>\n",
       "      <td>105.01</td>\n",
       "    </tr>\n",
       "  </tbody>\n",
       "</table>\n",
       "</div>"
      ],
      "text/plain": [
       "  summary             Recency           Frequency           Monetary\n",
       "0   count                3288                3288               3288\n",
       "1    mean  102.10492700729927  3.0173357664233578  96.67289537712955\n",
       "2  stddev  102.36759878724881   4.972636161318731  1428.640749161816\n",
       "3     min                   0                   1           -77183.6\n",
       "4     max                 373                 130           15046.01\n",
       "5     25%                  22                   1             18.545\n",
       "6     50%                  61                   2                 45\n",
       "7     75%                 163                   3             105.01"
      ]
     },
     "execution_count": 51,
     "metadata": {},
     "output_type": "execute_result"
    }
   ],
   "source": [
    "import numpy as np\n",
    "import pandas as pd\n",
    "cols = ['Recency','Frequency','Monetary']\n",
    "describe_pd(rfm,cols,0) # If you are looking for Deciles then pass 1 in the function "
   ]
  },
  {
   "cell_type": "markdown",
   "metadata": {
    "colab_type": "text",
    "id": "oBLvIeHQONCZ"
   },
   "source": [
    "The user defined function by using the cutting points.\n",
    "\n",
    "I will use the quantile as the cutting points in this case"
   ]
  },
  {
   "cell_type": "code",
   "execution_count": 52,
   "metadata": {
    "colab": {},
    "colab_type": "code",
    "id": "YeGAkf_oMLdt"
   },
   "outputs": [],
   "source": [
    "def RScore(x):\n",
    "    if  x <= 22:\n",
    "        return 1\n",
    "    elif x<= 61:\n",
    "        return 2\n",
    "    elif x<= 163:\n",
    "        return 3\n",
    "    else:\n",
    "        return 4\n",
    "\n",
    "def FScore(x):\n",
    "    if  x <= 1:\n",
    "        return 4\n",
    "    elif x <= 2:\n",
    "        return 3\n",
    "    elif x <= 3:\n",
    "        return 2\n",
    "    else:\n",
    "        return 1\n",
    "\n",
    "def MScore(x):\n",
    "    if  x <= 18.545:\n",
    "        return 4\n",
    "    elif x <= 45:\n",
    "        return 3\n",
    "    elif x <= 105.01:\n",
    "        return 2\n",
    "    else:\n",
    "        return 1\n",
    "\n",
    "from pyspark.sql.functions import udf\n",
    "from pyspark.sql.types import StringType, DoubleType\n",
    "\n",
    "R_udf = udf(lambda x: RScore(x), StringType())\n",
    "F_udf = udf(lambda x: FScore(x), StringType())\n",
    "M_udf = udf(lambda x: MScore(x), StringType())\n"
   ]
  },
  {
   "cell_type": "code",
   "execution_count": 53,
   "metadata": {
    "colab": {
     "base_uri": "https://localhost:8080/",
     "height": 204
    },
    "colab_type": "code",
    "id": "fCITpzDFOiCq",
    "outputId": "00e4ce1c-c29e-4b98-d843-3c67fbede27c"
   },
   "outputs": [
    {
     "name": "stdout",
     "output_type": "stream",
     "text": [
      "+----------+-------+---------+--------+-----+-----+-----+\n",
      "|CustomerID|Recency|Frequency|Monetary|r_seg|f_seg|m_seg|\n",
      "+----------+-------+---------+--------+-----+-----+-----+\n",
      "|     17189|    106|        2|    32.3|    3|    3|    3|\n",
      "|     15521|     40|        4|   43.55|    2|    1|    3|\n",
      "|     16904|      4|       13|  171.35|    1|    1|    1|\n",
      "|     12528|      9|        3|  120.66|    1|    2|    1|\n",
      "|     12766|      3|        4|  174.87|    1|    1|    1|\n",
      "+----------+-------+---------+--------+-----+-----+-----+\n",
      "only showing top 5 rows\n",
      "\n"
     ]
    }
   ],
   "source": [
    "rfm_seg = rfm.withColumn(\"r_seg\", R_udf(\"Recency\"))\n",
    "rfm_seg = rfm_seg.withColumn(\"f_seg\", F_udf(\"Frequency\"))\n",
    "rfm_seg = rfm_seg.withColumn(\"m_seg\", M_udf(\"Monetary\"))\n",
    "rfm_seg.show(5)"
   ]
  },
  {
   "cell_type": "code",
   "execution_count": 54,
   "metadata": {
    "colab": {},
    "colab_type": "code",
    "id": "5QlmmLHZPzWP"
   },
   "outputs": [],
   "source": [
    "from pyspark.sql import functions as F"
   ]
  },
  {
   "cell_type": "code",
   "execution_count": 55,
   "metadata": {
    "colab": {
     "base_uri": "https://localhost:8080/",
     "height": 204
    },
    "colab_type": "code",
    "id": "bEQfLry7OmU_",
    "outputId": "3f93d75a-5e88-475b-bd27-25f913d7e9d6"
   },
   "outputs": [
    {
     "name": "stdout",
     "output_type": "stream",
     "text": [
      "+----------+-------+---------+--------+-----+-----+-----+--------+\n",
      "|CustomerID|Recency|Frequency|Monetary|r_seg|f_seg|m_seg|RFMScore|\n",
      "+----------+-------+---------+--------+-----+-----+-----+--------+\n",
      "|     14546|      5|        6|  111.41|    1|    1|    1|     111|\n",
      "|     13709|      3|        9|  335.14|    1|    1|    1|     111|\n",
      "|     14911|      1|      130| 6810.03|    1|    1|    1|     111|\n",
      "|     16904|      4|       13|  171.35|    1|    1|    1|     111|\n",
      "|     14796|      1|       15|  319.41|    1|    1|    1|     111|\n",
      "+----------+-------+---------+--------+-----+-----+-----+--------+\n",
      "only showing top 5 rows\n",
      "\n"
     ]
    }
   ],
   "source": [
    "rfm_seg = rfm_seg.withColumn('RFMScore',\n",
    "                             F.concat(F.col('r_seg'),F.col('f_seg'), F.col('m_seg')))\n",
    "rfm_seg.sort(F.col('RFMScore')).show(5)"
   ]
  },
  {
   "cell_type": "markdown",
   "metadata": {
    "colab_type": "text",
    "id": "xNe0GO5JQFkf"
   },
   "source": [
    "Statistical Summary"
   ]
  },
  {
   "cell_type": "code",
   "execution_count": 56,
   "metadata": {
    "colab": {
     "base_uri": "https://localhost:8080/",
     "height": 204
    },
    "colab_type": "code",
    "id": "4rD7iubGOwS-",
    "outputId": "1311803d-50e5-4820-ec5a-0052b5a2bac4"
   },
   "outputs": [
    {
     "name": "stdout",
     "output_type": "stream",
     "text": [
      "+--------+-----------------+-----------------+-----------------+\n",
      "|RFMScore|     avg(Recency)|    avg(Monetary)|   avg(Frequency)|\n",
      "+--------+-----------------+-----------------+-----------------+\n",
      "|     111|9.148148148148149|572.4890909090913| 10.8989898989899|\n",
      "|     112|           9.5375|77.78200000000001|           5.4125|\n",
      "|     113|7.933333333333334|            33.38|4.866666666666666|\n",
      "|     114|              7.8|           -49.64|              4.8|\n",
      "|     121|9.483870967741936|272.7345161290323|              3.0|\n",
      "+--------+-----------------+-----------------+-----------------+\n",
      "only showing top 5 rows\n",
      "\n"
     ]
    }
   ],
   "source": [
    "rfm_seg.groupBy('RFMScore')\\\n",
    "       .agg({'Recency':'mean',\n",
    "             'Frequency': 'mean',\n",
    "             'Monetary': 'mean'} )\\\n",
    "        .sort(F.col('RFMScore')).show(5)"
   ]
  },
  {
   "cell_type": "markdown",
   "metadata": {
    "colab_type": "text",
    "id": "kWKzKRcMQceV"
   },
   "source": [
    "Complex Summary"
   ]
  },
  {
   "cell_type": "code",
   "execution_count": 58,
   "metadata": {
    "colab": {},
    "colab_type": "code",
    "id": "F8v9jRB9QabM"
   },
   "outputs": [],
   "source": [
    "\n",
    "#grp = 'RFMScore'\n",
    "#num_cols = ['Recency','Frequency','Monetary']\n",
    "#df_input = rfm_seg\n",
    "\n",
    "#quantile_grouped = quantile_agg(df_input,grp,num_cols)\n",
    "#quantile_grouped.toPandas().to_csv(output_dir+'quantile_grouped.csv')\n",
    "\n",
    "#deciles_grouped = deciles_agg(df_input,grp,num_cols)\n",
    "#deciles_grouped.toPandas().to_csv(output_dir+'deciles_grouped.csv')\n"
   ]
  },
  {
   "cell_type": "markdown",
   "metadata": {
    "colab_type": "text",
    "id": "5DelcxlFQiP_"
   },
   "source": [
    "Extension"
   ]
  },
  {
   "cell_type": "markdown",
   "metadata": {
    "colab_type": "text",
    "id": "SG3Vn1k-QpwN"
   },
   "source": [
    "**K-means Clustering**"
   ]
  },
  {
   "cell_type": "markdown",
   "metadata": {
    "colab_type": "text",
    "id": "SKjbvUJ3Qu2H"
   },
   "source": [
    "Building a dense Feature Matrix "
   ]
  },
  {
   "cell_type": "code",
   "execution_count": 59,
   "metadata": {
    "colab": {},
    "colab_type": "code",
    "id": "mqQwjFcmQRW8"
   },
   "outputs": [],
   "source": [
    "from pyspark.sql import Row\n",
    "from pyspark.ml.linalg import Vectors\n",
    "\n",
    "# method 1 (good for small feature):\n",
    "#def transData(row):\n",
    "#    return Row(label=row[\"Sales\"],\n",
    "#               features=Vectors.dense([row[\"TV\"],\n",
    "#                                       row[\"Radio\"],\n",
    "#                                       row[\"Newspaper\"]]))\n",
    "\n",
    "# Method 2 (good for large features):\n",
    "def transData(data):\n",
    "    return data.rdd.map(lambda r: [r[0],Vectors.dense(r[1:])]).toDF(['CustomerID','rfm'])"
   ]
  },
  {
   "cell_type": "code",
   "execution_count": 60,
   "metadata": {
    "colab": {
     "base_uri": "https://localhost:8080/",
     "height": 204
    },
    "colab_type": "code",
    "id": "aNjtxsEPQIha",
    "outputId": "98645888-acce-4038-cf2b-e20f18e6d741"
   },
   "outputs": [
    {
     "name": "stdout",
     "output_type": "stream",
     "text": [
      "+----------+-----------------+\n",
      "|CustomerID|              rfm|\n",
      "+----------+-----------------+\n",
      "|     17189| [106.0,2.0,32.3]|\n",
      "|     15521| [40.0,4.0,43.55]|\n",
      "|     16904|[4.0,13.0,171.35]|\n",
      "|     12528| [9.0,3.0,120.66]|\n",
      "|     12766| [3.0,4.0,174.87]|\n",
      "+----------+-----------------+\n",
      "only showing top 5 rows\n",
      "\n"
     ]
    }
   ],
   "source": [
    "transformed= transData(rfm)\n",
    "transformed.show(5)"
   ]
  },
  {
   "cell_type": "markdown",
   "metadata": {
    "colab_type": "text",
    "id": "ygfIKhBwRTE2"
   },
   "source": [
    "Scaling the Feature Matrix"
   ]
  },
  {
   "cell_type": "code",
   "execution_count": 61,
   "metadata": {
    "colab": {
     "base_uri": "https://localhost:8080/",
     "height": 204
    },
    "colab_type": "code",
    "id": "fD4zoP9rQ8yG",
    "outputId": "a5e87343-6e62-4831-c40f-3c0779167a15"
   },
   "outputs": [
    {
     "name": "stdout",
     "output_type": "stream",
     "text": [
      "+----------+-----------------+-------------------------------------------------------------+\n",
      "|CustomerID|rfm              |features                                                     |\n",
      "+----------+-----------------+-------------------------------------------------------------+\n",
      "|17189     |[106.0,2.0,32.3] |[0.28418230563002683,0.007751937984496124,0.8372137754892383]|\n",
      "|15521     |[40.0,4.0,43.55] |[0.10723860589812333,0.023255813953488372,0.8373357536695646]|\n",
      "|16904     |[4.0,13.0,171.35]|[0.010723860589812333,0.09302325581395349,0.8387214257980709]|\n",
      "|12528     |[9.0,3.0,120.66] |[0.024128686327077747,0.015503875968992248,0.838171819223783]|\n",
      "|12766     |[3.0,4.0,174.87] |[0.00804289544235925,0.023255813953488372,0.8387595914153817]|\n",
      "+----------+-----------------+-------------------------------------------------------------+\n",
      "only showing top 5 rows\n",
      "\n"
     ]
    }
   ],
   "source": [
    "from pyspark.ml.feature import MinMaxScaler\n",
    "\n",
    "scaler = MinMaxScaler(inputCol=\"rfm\",\\\n",
    "         outputCol=\"features\")\n",
    "scalerModel =  scaler.fit(transformed)\n",
    "scaledData = scalerModel.transform(transformed)\n",
    "scaledData.show(5,False)"
   ]
  },
  {
   "cell_type": "code",
   "execution_count": 62,
   "metadata": {
    "colab": {
     "base_uri": "https://localhost:8080/",
     "height": 34
    },
    "colab_type": "code",
    "id": "Tf1MehQsV2o8",
    "outputId": "aa3ca4ac-e5f5-47cc-cb54-10ce3df3b231"
   },
   "outputs": [],
   "source": [
    "#scaledData"
   ]
  },
  {
   "cell_type": "markdown",
   "metadata": {
    "colab_type": "text",
    "id": "05Oy-jLoRe9z"
   },
   "source": [
    "Finding the optimal Number of Clusters "
   ]
  },
  {
   "cell_type": "code",
   "execution_count": 63,
   "metadata": {
    "colab": {},
    "colab_type": "code",
    "id": "KA2TE6yKRZCb"
   },
   "outputs": [],
   "source": [
    "#Elbow Analysis\n",
    "#PySpark libraries\n",
    "from pyspark.ml import Pipeline\n",
    "from pyspark.ml.feature import StringIndexer, OneHotEncoder, VectorAssembler\n",
    "from pyspark.sql.functions import col, percent_rank, lit\n",
    "from pyspark.sql.window import Window\n",
    "from pyspark.sql import DataFrame, Row\n",
    "from pyspark.sql.types import StructType\n",
    "from functools import reduce  # For Python 3.x\n",
    "\n",
    "from pyspark.ml.clustering import KMeans\n",
    "from pyspark.ml.evaluation import ClusteringEvaluator  # requires Spark 2.4 or later\n",
    "\n",
    "import numpy as np\n",
    "cost = np.zeros(20)\n",
    "for k in range(2,20):\n",
    "    kmeans = KMeans()\\\n",
    "            .setK(k)\\\n",
    "            .setSeed(1) \\\n",
    "            .setFeaturesCol(\"features\")\\\n",
    "            .setPredictionCol(\"cluster\")\n",
    "\n",
    "    model = kmeans.fit(scaledData)\n",
    "    cost[k] = model.computeCost(scaledData) # requires Spark 2.0 or later\n"
   ]
  },
  {
   "cell_type": "code",
   "execution_count": 68,
   "metadata": {
    "colab": {},
    "colab_type": "code",
    "id": "QwW_WP6ORlSD"
   },
   "outputs": [
    {
     "data": {
      "image/png": "[encoded data removed]",
      "text/plain": [
       "<Figure size 576x432 with 1 Axes>"
      ]
     },
     "metadata": {
      "needs_background": "light"
     },
     "output_type": "display_data"
    }
   ],
   "source": [
    "import numpy as np\n",
    "import matplotlib.mlab as mlab\n",
    "import matplotlib.pyplot as plt\n",
    "import seaborn as sbs\n",
    "from matplotlib.ticker import MaxNLocator\n",
    "\n",
    "fig, ax = plt.subplots(1,1, figsize =(8,6))\n",
    "ax.plot(range(2,20),cost[2:20], marker = \"o\")\n",
    "ax.set_xlabel('k')\n",
    "ax.set_ylabel('cost')\n",
    "ax.xaxis.set_major_locator(MaxNLocator(integer=True))\n",
    "plt.show()\n"
   ]
  },
  {
   "cell_type": "markdown",
   "metadata": {
    "colab": {},
    "colab_type": "code",
    "id": "TG8m1wImXJBG"
   },
   "source": [
    "In my opinion, sometimes it’s hard to choose the number of the clusters. As shown in Figure Cost v.s. the number of the clusters, you can choose 3, 5 or even 8. I will choose 3 in this demo."
   ]
  },
  {
   "cell_type": "code",
   "execution_count": 85,
   "metadata": {},
   "outputs": [],
   "source": [
    "#Silhouette analysis\n",
    "\n",
    "#PySpark libraries\n",
    "from pyspark.ml import Pipeline\n",
    "from pyspark.ml.feature import StringIndexer, OneHotEncoder, VectorAssembler\n",
    "from pyspark.sql.functions import col, percent_rank, lit\n",
    "from pyspark.sql.window import Window\n",
    "from pyspark.sql import DataFrame, Row\n",
    "from pyspark.sql.types import StructType\n",
    "from functools import reduce  # For Python 3.x\n",
    "\n",
    "from pyspark.ml.clustering import KMeans\n",
    "from pyspark.ml.evaluation import ClusteringEvaluator\n",
    "\n",
    "import time # Added by SHREEJIT \n",
    "\n",
    "def optimal_k(df_in,index_col,k_min, k_max,num_runs):\n",
    "    '''\n",
    "    Determine optimal number of clusters by using Silhoutte Score Analysis.\n",
    "    :param df_in: the input dataframe\n",
    "    :param index_col: the name of the index column\n",
    "    :param k_min: the train dataset\n",
    "    :param k_min: the minmum number of the clusters\n",
    "    :param k_max: the maxmum number of the clusters\n",
    "    :param num_runs: the number of runs for each fixed clusters\n",
    "\n",
    "    :return k: optimal number of the clusters\n",
    "    :return silh_lst: Silhouette score\n",
    "    :return r_table: the running results table\n",
    "\n",
    "    :author: Wenqiang Feng\n",
    "    :email:  von198@gmail.com.com\n",
    "    '''\n",
    "\n",
    "    start = time.time()\n",
    "    silh_lst = []\n",
    "    k_lst = np.arange(k_min, k_max+1)\n",
    "\n",
    "    r_table = df_in.select(index_col).toPandas()\n",
    "    r_table = r_table.set_index(index_col)\n",
    "    centers = pd.DataFrame()\n",
    "\n",
    "    for k in k_lst:\n",
    "        silh_val = []\n",
    "        for run in np.arange(1, num_runs+1):\n",
    "\n",
    "            # Trains a k-means model.\n",
    "            kmeans = KMeans()\\\n",
    "                    .setK(k)\\\n",
    "                    .setSeed(int(np.random.randint(100, size=1)))\n",
    "            model = kmeans.fit(df_in)\n",
    "\n",
    "            # Make predictions\n",
    "            predictions = model.transform(df_in)\n",
    "            r_table['cluster_{k}_{run}'.format(k=k, run=run)]= predictions.select('prediction').toPandas()\n",
    "\n",
    "            # Evaluate clustering by computing Silhouette score\n",
    "            evaluator = ClusteringEvaluator()\n",
    "            silhouette = evaluator.evaluate(predictions)\n",
    "            silh_val.append(silhouette)\n",
    "\n",
    "        silh_array=np.asanyarray(silh_val)\n",
    "        silh_lst.append(silh_array.mean())\n",
    "\n",
    "    elapsed =  time.time() - start\n",
    "\n",
    "    silhouette = pd.DataFrame(list(zip(k_lst,silh_lst)),columns = ['k', 'silhouette'])\n",
    "\n",
    "    print('+------------------------------------------------------------+')\n",
    "    print(\"|         The finding optimal k phase took %8.0f s.       |\" %(elapsed))\n",
    "    print('+------------------------------------------------------------+')\n",
    "\n",
    "\n",
    "    return k_lst[np.argmax(silh_lst, axis=0)], silhouette , r_table"
   ]
  },
  {
   "cell_type": "code",
   "execution_count": 90,
   "metadata": {},
   "outputs": [
    {
     "name": "stdout",
     "output_type": "stream",
     "text": [
      "+------------------------------------------------------------+\n",
      "|         The finding optimal k phase took       14 s.       |\n",
      "+------------------------------------------------------------+\n"
     ]
    }
   ],
   "source": [
    "# num_runs is the last parameter to optimal_k. Kept it as 1 for now \n",
    "k, silh_lst, r_table = optimal_k(scaledData,'CustomerID',3,10,1)"
   ]
  },
  {
   "cell_type": "code",
   "execution_count": 91,
   "metadata": {},
   "outputs": [
    {
     "data": {
      "text/plain": [
       "3"
      ]
     },
     "execution_count": 91,
     "metadata": {},
     "output_type": "execute_result"
    }
   ],
   "source": [
    "k"
   ]
  },
  {
   "cell_type": "code",
   "execution_count": 92,
   "metadata": {},
   "outputs": [
    {
     "data": {
      "text/html": [
       "<div>\n",
       "<style scoped>\n",
       "    .dataframe tbody tr th:only-of-type {\n",
       "        vertical-align: middle;\n",
       "    }\n",
       "\n",
       "    .dataframe tbody tr th {\n",
       "        vertical-align: top;\n",
       "    }\n",
       "\n",
       "    .dataframe thead th {\n",
       "        text-align: right;\n",
       "    }\n",
       "</style>\n",
       "<table border=\"1\" class=\"dataframe\">\n",
       "  <thead>\n",
       "    <tr style=\"text-align: right;\">\n",
       "      <th></th>\n",
       "      <th>k</th>\n",
       "      <th>silhouette</th>\n",
       "    </tr>\n",
       "  </thead>\n",
       "  <tbody>\n",
       "    <tr>\n",
       "      <td>0</td>\n",
       "      <td>3</td>\n",
       "      <td>0.799660</td>\n",
       "    </tr>\n",
       "    <tr>\n",
       "      <td>1</td>\n",
       "      <td>4</td>\n",
       "      <td>0.706428</td>\n",
       "    </tr>\n",
       "    <tr>\n",
       "      <td>2</td>\n",
       "      <td>5</td>\n",
       "      <td>0.692059</td>\n",
       "    </tr>\n",
       "    <tr>\n",
       "      <td>3</td>\n",
       "      <td>6</td>\n",
       "      <td>0.732205</td>\n",
       "    </tr>\n",
       "    <tr>\n",
       "      <td>4</td>\n",
       "      <td>7</td>\n",
       "      <td>0.622674</td>\n",
       "    </tr>\n",
       "    <tr>\n",
       "      <td>5</td>\n",
       "      <td>8</td>\n",
       "      <td>0.661743</td>\n",
       "    </tr>\n",
       "    <tr>\n",
       "      <td>6</td>\n",
       "      <td>9</td>\n",
       "      <td>0.679322</td>\n",
       "    </tr>\n",
       "    <tr>\n",
       "      <td>7</td>\n",
       "      <td>10</td>\n",
       "      <td>0.571296</td>\n",
       "    </tr>\n",
       "  </tbody>\n",
       "</table>\n",
       "</div>"
      ],
      "text/plain": [
       "    k  silhouette\n",
       "0   3    0.799660\n",
       "1   4    0.706428\n",
       "2   5    0.692059\n",
       "3   6    0.732205\n",
       "4   7    0.622674\n",
       "5   8    0.661743\n",
       "6   9    0.679322\n",
       "7  10    0.571296"
      ]
     },
     "execution_count": 92,
     "metadata": {},
     "output_type": "execute_result"
    }
   ],
   "source": [
    "silh_lst"
   ]
  },
  {
   "cell_type": "markdown",
   "metadata": {},
   "source": [
    "Using K means (k=3) to cluster the customers "
   ]
  },
  {
   "cell_type": "code",
   "execution_count": 89,
   "metadata": {},
   "outputs": [
    {
     "name": "stdout",
     "output_type": "stream",
     "text": [
      "+----------+-----------------+-------------------------------------------------------------+----------+\n",
      "|CustomerID|rfm              |features                                                     |prediction|\n",
      "+----------+-----------------+-------------------------------------------------------------+----------+\n",
      "|17189     |[106.0,2.0,32.3] |[0.28418230563002683,0.007751937984496124,0.8372137754892383]|0         |\n",
      "|15521     |[40.0,4.0,43.55] |[0.10723860589812333,0.023255813953488372,0.8373357536695646]|2         |\n",
      "|16904     |[4.0,13.0,171.35]|[0.010723860589812333,0.09302325581395349,0.8387214257980709]|2         |\n",
      "|12528     |[9.0,3.0,120.66] |[0.024128686327077747,0.015503875968992248,0.838171819223783]|2         |\n",
      "|12766     |[3.0,4.0,174.87] |[0.00804289544235925,0.023255813953488372,0.8387595914153817]|2         |\n",
      "+----------+-----------------+-------------------------------------------------------------+----------+\n",
      "only showing top 5 rows\n",
      "\n"
     ]
    }
   ],
   "source": [
    "k = 3\n",
    "kmeans = KMeans().setK(k).setSeed(1)\n",
    "model = kmeans.fit(scaledData)\n",
    "# Make predictions\n",
    "predictions = model.transform(scaledData)\n",
    "predictions.show(5,False)"
   ]
  },
  {
   "cell_type": "markdown",
   "metadata": {},
   "source": [
    "Statistical Summary"
   ]
  },
  {
   "cell_type": "code",
   "execution_count": 94,
   "metadata": {},
   "outputs": [
    {
     "name": "stdout",
     "output_type": "stream",
     "text": [
      "+----------+-------+---------+--------+----------+\n",
      "|CustomerID|Recency|Frequency|Monetary|prediction|\n",
      "+----------+-------+---------+--------+----------+\n",
      "|     13098|     21|       21| 1525.75|         2|\n",
      "|     13248|    189|        1|   33.48|         0|\n",
      "|     13460|     29|        1|    17.0|         2|\n",
      "|     13518|     85|        1|    19.8|         2|\n",
      "|     14719|      1|        5|  102.94|         2|\n",
      "+----------+-------+---------+--------+----------+\n",
      "only showing top 5 rows\n",
      "\n"
     ]
    }
   ],
   "source": [
    "results = rfm.join(predictions.select('CustomerID','prediction'),'CustomerID',how='left')\n",
    "results.show(5)"
   ]
  },
  {
   "cell_type": "code",
   "execution_count": 95,
   "metadata": {},
   "outputs": [
    {
     "name": "stdout",
     "output_type": "stream",
     "text": [
      "+----------+------------------+------------------+------------------+\n",
      "|prediction|      avg(Recency)|     avg(Monetary)|    avg(Frequency)|\n",
      "+----------+------------------+------------------+------------------+\n",
      "|         0|158.72837632776935| 61.96878603945374|1.9013657056145676|\n",
      "|         1|296.52107279693485|-115.4552490421456|1.2452107279693487|\n",
      "|         2| 36.22923588039867|160.08101091599437| 3.805410536307546|\n",
      "+----------+------------------+------------------+------------------+\n",
      "\n"
     ]
    }
   ],
   "source": [
    "#Simple Summary \n",
    "results.groupBy('prediction')\\\n",
    "       .agg({'Recency':'mean',\n",
    "             'Frequency': 'mean',\n",
    "             'Monetary': 'mean'} )\\\n",
    "        .sort(F.col('prediction')).show(5)"
   ]
  },
  {
   "cell_type": "code",
   "execution_count": null,
   "metadata": {},
   "outputs": [],
   "source": [
    "#Complex Summary \n",
    "grp = 'RFMScore'\n",
    "num_cols = ['Recency','Frequency','Monetary']\n",
    "df_input = results\n",
    "\n",
    "quantile_grouped = quantile_agg(df_input,grp,num_cols)\n",
    "quantile_grouped.toPandas().to_csv(output_dir+'quantile_grouped.csv')\n",
    "\n",
    "deciles_grouped = deciles_agg(df_input,grp,num_cols)\n",
    "deciles_grouped.toPandas().to_csv(output_dir+'deciles_grouped.csv')"
   ]
  },
  {
   "cell_type": "code",
   "execution_count": 96,
   "metadata": {},
   "outputs": [],
   "source": [
    "import numpy as np \n",
    "import pandas as pd \n",
    "import matplotlib.pyplot as plt \n",
    "from matplotlib import gridspec \n",
    "from sklearn.cluster import OPTICS, cluster_optics_dbscan \n",
    "from sklearn.preprocessing import normalize, StandardScaler"
   ]
  },
  {
   "cell_type": "code",
   "execution_count": 98,
   "metadata": {},
   "outputs": [
    {
     "name": "stdout",
     "output_type": "stream",
     "text": [
      "+----------+-------+---------+--------+-----+-----+-----+--------+\n",
      "|CustomerID|Recency|Frequency|Monetary|r_seg|f_seg|m_seg|RFMScore|\n",
      "+----------+-------+---------+--------+-----+-----+-----+--------+\n",
      "|     17189|    106|        2|    32.3|    3|    3|    3|     333|\n",
      "|     15521|     40|        4|   43.55|    2|    1|    3|     213|\n",
      "|     16904|      4|       13|  171.35|    1|    1|    1|     111|\n",
      "+----------+-------+---------+--------+-----+-----+-----+--------+\n",
      "only showing top 3 rows\n",
      "\n"
     ]
    }
   ],
   "source": [
    "rfm_seg.show(3)"
   ]
  },
  {
   "cell_type": "markdown",
   "metadata": {},
   "source": [
    "# Optics- Density Based Clustering Approach"
   ]
  },
  {
   "cell_type": "code",
   "execution_count": 99,
   "metadata": {},
   "outputs": [],
   "source": [
    "df=rfm_seg.toPandas()"
   ]
  },
  {
   "cell_type": "code",
   "execution_count": 100,
   "metadata": {},
   "outputs": [
    {
     "data": {
      "text/html": [
       "<div>\n",
       "<style scoped>\n",
       "    .dataframe tbody tr th:only-of-type {\n",
       "        vertical-align: middle;\n",
       "    }\n",
       "\n",
       "    .dataframe tbody tr th {\n",
       "        vertical-align: top;\n",
       "    }\n",
       "\n",
       "    .dataframe thead th {\n",
       "        text-align: right;\n",
       "    }\n",
       "</style>\n",
       "<table border=\"1\" class=\"dataframe\">\n",
       "  <thead>\n",
       "    <tr style=\"text-align: right;\">\n",
       "      <th></th>\n",
       "      <th>CustomerID</th>\n",
       "      <th>Recency</th>\n",
       "      <th>Frequency</th>\n",
       "      <th>Monetary</th>\n",
       "      <th>r_seg</th>\n",
       "      <th>f_seg</th>\n",
       "      <th>m_seg</th>\n",
       "      <th>RFMScore</th>\n",
       "    </tr>\n",
       "  </thead>\n",
       "  <tbody>\n",
       "    <tr>\n",
       "      <td>0</td>\n",
       "      <td>17189</td>\n",
       "      <td>106</td>\n",
       "      <td>2</td>\n",
       "      <td>32.30</td>\n",
       "      <td>3</td>\n",
       "      <td>3</td>\n",
       "      <td>3</td>\n",
       "      <td>333</td>\n",
       "    </tr>\n",
       "    <tr>\n",
       "      <td>1</td>\n",
       "      <td>15521</td>\n",
       "      <td>40</td>\n",
       "      <td>4</td>\n",
       "      <td>43.55</td>\n",
       "      <td>2</td>\n",
       "      <td>1</td>\n",
       "      <td>3</td>\n",
       "      <td>213</td>\n",
       "    </tr>\n",
       "    <tr>\n",
       "      <td>2</td>\n",
       "      <td>16904</td>\n",
       "      <td>4</td>\n",
       "      <td>13</td>\n",
       "      <td>171.35</td>\n",
       "      <td>1</td>\n",
       "      <td>1</td>\n",
       "      <td>1</td>\n",
       "      <td>111</td>\n",
       "    </tr>\n",
       "  </tbody>\n",
       "</table>\n",
       "</div>"
      ],
      "text/plain": [
       "   CustomerID  Recency  Frequency  Monetary r_seg f_seg m_seg RFMScore\n",
       "0       17189      106          2     32.30     3     3     3      333\n",
       "1       15521       40          4     43.55     2     1     3      213\n",
       "2       16904        4         13    171.35     1     1     1      111"
      ]
     },
     "execution_count": 100,
     "metadata": {},
     "output_type": "execute_result"
    }
   ],
   "source": [
    "df.head(3)"
   ]
  },
  {
   "cell_type": "code",
   "execution_count": 101,
   "metadata": {},
   "outputs": [],
   "source": [
    "#Dropping irrelevant columns \n",
    "drop_features = ['CustomerID', 'r_seg','f_seg','m_seg'] \n",
    "X = df.drop(drop_features, axis = 1) "
   ]
  },
  {
   "cell_type": "code",
   "execution_count": 102,
   "metadata": {},
   "outputs": [
    {
     "data": {
      "text/html": [
       "<div>\n",
       "<style scoped>\n",
       "    .dataframe tbody tr th:only-of-type {\n",
       "        vertical-align: middle;\n",
       "    }\n",
       "\n",
       "    .dataframe tbody tr th {\n",
       "        vertical-align: top;\n",
       "    }\n",
       "\n",
       "    .dataframe thead th {\n",
       "        text-align: right;\n",
       "    }\n",
       "</style>\n",
       "<table border=\"1\" class=\"dataframe\">\n",
       "  <thead>\n",
       "    <tr style=\"text-align: right;\">\n",
       "      <th></th>\n",
       "      <th>Recency</th>\n",
       "      <th>Frequency</th>\n",
       "      <th>Monetary</th>\n",
       "      <th>RFMScore</th>\n",
       "    </tr>\n",
       "  </thead>\n",
       "  <tbody>\n",
       "    <tr>\n",
       "      <td>0</td>\n",
       "      <td>106</td>\n",
       "      <td>2</td>\n",
       "      <td>32.3</td>\n",
       "      <td>333</td>\n",
       "    </tr>\n",
       "  </tbody>\n",
       "</table>\n",
       "</div>"
      ],
      "text/plain": [
       "   Recency  Frequency  Monetary RFMScore\n",
       "0      106          2      32.3      333"
      ]
     },
     "execution_count": 102,
     "metadata": {},
     "output_type": "execute_result"
    }
   ],
   "source": [
    "X.head(1)"
   ]
  },
  {
   "cell_type": "code",
   "execution_count": 103,
   "metadata": {},
   "outputs": [],
   "source": [
    "#Scaling the data to bring all the attributes to a comparable level \n",
    "scaler = StandardScaler() \n",
    "X_scaled = scaler.fit_transform(X) "
   ]
  },
  {
   "cell_type": "code",
   "execution_count": 104,
   "metadata": {},
   "outputs": [],
   "source": [
    "# Normalizing the data so that the data \n",
    "# approximately follows a Gaussian distribution \n",
    "X_normalized = normalize(X_scaled) "
   ]
  },
  {
   "cell_type": "code",
   "execution_count": 105,
   "metadata": {},
   "outputs": [],
   "source": [
    "# Converting the numpy array into a pandas DataFrame \n",
    "X_normalized = pd.DataFrame(X_normalized) "
   ]
  },
  {
   "cell_type": "code",
   "execution_count": 106,
   "metadata": {},
   "outputs": [
    {
     "data": {
      "text/html": [
       "<div>\n",
       "<style scoped>\n",
       "    .dataframe tbody tr th:only-of-type {\n",
       "        vertical-align: middle;\n",
       "    }\n",
       "\n",
       "    .dataframe tbody tr th {\n",
       "        vertical-align: top;\n",
       "    }\n",
       "\n",
       "    .dataframe thead th {\n",
       "        text-align: right;\n",
       "    }\n",
       "</style>\n",
       "<table border=\"1\" class=\"dataframe\">\n",
       "  <thead>\n",
       "    <tr style=\"text-align: right;\">\n",
       "      <th></th>\n",
       "      <th>0</th>\n",
       "      <th>1</th>\n",
       "      <th>2</th>\n",
       "      <th>3</th>\n",
       "    </tr>\n",
       "  </thead>\n",
       "  <tbody>\n",
       "    <tr>\n",
       "      <td>0</td>\n",
       "      <td>0.077470</td>\n",
       "      <td>-0.416540</td>\n",
       "      <td>-0.091740</td>\n",
       "      <td>0.901153</td>\n",
       "    </tr>\n",
       "    <tr>\n",
       "      <td>1</td>\n",
       "      <td>-0.707004</td>\n",
       "      <td>0.230291</td>\n",
       "      <td>-0.043333</td>\n",
       "      <td>-0.667258</td>\n",
       "    </tr>\n",
       "    <tr>\n",
       "      <td>2</td>\n",
       "      <td>-0.361917</td>\n",
       "      <td>0.758125</td>\n",
       "      <td>0.019740</td>\n",
       "      <td>-0.542101</td>\n",
       "    </tr>\n",
       "    <tr>\n",
       "      <td>3</td>\n",
       "      <td>-0.558457</td>\n",
       "      <td>-0.002141</td>\n",
       "      <td>0.010309</td>\n",
       "      <td>-0.829467</td>\n",
       "    </tr>\n",
       "    <tr>\n",
       "      <td>4</td>\n",
       "      <td>-0.555265</td>\n",
       "      <td>0.113341</td>\n",
       "      <td>0.031393</td>\n",
       "      <td>-0.823316</td>\n",
       "    </tr>\n",
       "  </tbody>\n",
       "</table>\n",
       "</div>"
      ],
      "text/plain": [
       "          0         1         2         3\n",
       "0  0.077470 -0.416540 -0.091740  0.901153\n",
       "1 -0.707004  0.230291 -0.043333 -0.667258\n",
       "2 -0.361917  0.758125  0.019740 -0.542101\n",
       "3 -0.558457 -0.002141  0.010309 -0.829467\n",
       "4 -0.555265  0.113341  0.031393 -0.823316"
      ]
     },
     "execution_count": 106,
     "metadata": {},
     "output_type": "execute_result"
    }
   ],
   "source": [
    "X_normalized.head(5)"
   ]
  },
  {
   "cell_type": "code",
   "execution_count": 107,
   "metadata": {},
   "outputs": [],
   "source": [
    "# Renaming the columns \n",
    "X_normalized.columns = X.columns "
   ]
  },
  {
   "cell_type": "code",
   "execution_count": 108,
   "metadata": {},
   "outputs": [
    {
     "data": {
      "text/html": [
       "<div>\n",
       "<style scoped>\n",
       "    .dataframe tbody tr th:only-of-type {\n",
       "        vertical-align: middle;\n",
       "    }\n",
       "\n",
       "    .dataframe tbody tr th {\n",
       "        vertical-align: top;\n",
       "    }\n",
       "\n",
       "    .dataframe thead th {\n",
       "        text-align: right;\n",
       "    }\n",
       "</style>\n",
       "<table border=\"1\" class=\"dataframe\">\n",
       "  <thead>\n",
       "    <tr style=\"text-align: right;\">\n",
       "      <th></th>\n",
       "      <th>Recency</th>\n",
       "      <th>Frequency</th>\n",
       "      <th>Monetary</th>\n",
       "      <th>RFMScore</th>\n",
       "    </tr>\n",
       "  </thead>\n",
       "  <tbody>\n",
       "    <tr>\n",
       "      <td>0</td>\n",
       "      <td>0.077470</td>\n",
       "      <td>-0.416540</td>\n",
       "      <td>-0.091740</td>\n",
       "      <td>0.901153</td>\n",
       "    </tr>\n",
       "    <tr>\n",
       "      <td>1</td>\n",
       "      <td>-0.707004</td>\n",
       "      <td>0.230291</td>\n",
       "      <td>-0.043333</td>\n",
       "      <td>-0.667258</td>\n",
       "    </tr>\n",
       "    <tr>\n",
       "      <td>2</td>\n",
       "      <td>-0.361917</td>\n",
       "      <td>0.758125</td>\n",
       "      <td>0.019740</td>\n",
       "      <td>-0.542101</td>\n",
       "    </tr>\n",
       "    <tr>\n",
       "      <td>3</td>\n",
       "      <td>-0.558457</td>\n",
       "      <td>-0.002141</td>\n",
       "      <td>0.010309</td>\n",
       "      <td>-0.829467</td>\n",
       "    </tr>\n",
       "    <tr>\n",
       "      <td>4</td>\n",
       "      <td>-0.555265</td>\n",
       "      <td>0.113341</td>\n",
       "      <td>0.031393</td>\n",
       "      <td>-0.823316</td>\n",
       "    </tr>\n",
       "  </tbody>\n",
       "</table>\n",
       "</div>"
      ],
      "text/plain": [
       "    Recency  Frequency  Monetary  RFMScore\n",
       "0  0.077470  -0.416540 -0.091740  0.901153\n",
       "1 -0.707004   0.230291 -0.043333 -0.667258\n",
       "2 -0.361917   0.758125  0.019740 -0.542101\n",
       "3 -0.558457  -0.002141  0.010309 -0.829467\n",
       "4 -0.555265   0.113341  0.031393 -0.823316"
      ]
     },
     "execution_count": 108,
     "metadata": {},
     "output_type": "execute_result"
    }
   ],
   "source": [
    "X_normalized.head(5)"
   ]
  },
  {
   "cell_type": "code",
   "execution_count": 109,
   "metadata": {},
   "outputs": [],
   "source": [
    "# Building the OPTICS Clustering model \n",
    "optics_model = OPTICS(min_samples = 10, xi = 0.05, min_cluster_size = 0.05) "
   ]
  },
  {
   "cell_type": "code",
   "execution_count": 110,
   "metadata": {},
   "outputs": [
    {
     "data": {
      "text/plain": [
       "OPTICS(algorithm='auto', cluster_method='xi', eps=None, leaf_size=30,\n",
       "       max_eps=inf, metric='minkowski', metric_params=None,\n",
       "       min_cluster_size=0.05, min_samples=10, n_jobs=None, p=2,\n",
       "       predecessor_correction=True, xi=0.05)"
      ]
     },
     "execution_count": 110,
     "metadata": {},
     "output_type": "execute_result"
    }
   ],
   "source": [
    "# Training the model \n",
    "optics_model.fit(X_normalized) "
   ]
  },
  {
   "cell_type": "code",
   "execution_count": 111,
   "metadata": {},
   "outputs": [],
   "source": [
    "# Producing the labels according to the DBSCAN technique with eps = 0.5 \n",
    "labels1 = cluster_optics_dbscan(reachability = optics_model.reachability_, \n",
    "                                   core_distances = optics_model.core_distances_, \n",
    "                                   ordering = optics_model.ordering_, eps = 0.5) "
   ]
  },
  {
   "cell_type": "code",
   "execution_count": 112,
   "metadata": {},
   "outputs": [],
   "source": [
    "# Producing the labels according to the DBSCAN technique with eps = 2.0 \n",
    "labels2 = cluster_optics_dbscan(reachability = optics_model.reachability_, \n",
    "                                   core_distances = optics_model.core_distances_, \n",
    "                                   ordering = optics_model.ordering_, eps = 2) "
   ]
  },
  {
   "cell_type": "code",
   "execution_count": 113,
   "metadata": {},
   "outputs": [],
   "source": [
    "# Creating a numpy array with numbers at equal spaces till \n",
    "# the specified range \n",
    "space = np.arange(len(X_normalized))"
   ]
  },
  {
   "cell_type": "code",
   "execution_count": 114,
   "metadata": {},
   "outputs": [],
   "source": [
    "# Storing the reachability distance of each point \n",
    "reachability = optics_model.reachability_[optics_model.ordering_] "
   ]
  },
  {
   "cell_type": "code",
   "execution_count": 115,
   "metadata": {},
   "outputs": [],
   "source": [
    "# Storing the cluster labels of each point \n",
    "# Question is whether these labels are in the right order of the data \n",
    "labels = optics_model.labels_[optics_model.ordering_] "
   ]
  },
  {
   "cell_type": "code",
   "execution_count": 116,
   "metadata": {},
   "outputs": [
    {
     "name": "stdout",
     "output_type": "stream",
     "text": [
      "[-1 -1 -1 ... -1 -1 -1]\n"
     ]
    }
   ],
   "source": [
    "print(labels) "
   ]
  },
  {
   "cell_type": "code",
   "execution_count": 117,
   "metadata": {},
   "outputs": [],
   "source": [
    "lb=pd.DataFrame(labels)"
   ]
  },
  {
   "cell_type": "code",
   "execution_count": 124,
   "metadata": {},
   "outputs": [],
   "source": [
    "#Renaming the column\n",
    "lb.columns=['labels_optics']"
   ]
  },
  {
   "cell_type": "code",
   "execution_count": 127,
   "metadata": {},
   "outputs": [
    {
     "data": {
      "text/html": [
       "<div>\n",
       "<style scoped>\n",
       "    .dataframe tbody tr th:only-of-type {\n",
       "        vertical-align: middle;\n",
       "    }\n",
       "\n",
       "    .dataframe tbody tr th {\n",
       "        vertical-align: top;\n",
       "    }\n",
       "\n",
       "    .dataframe thead th {\n",
       "        text-align: right;\n",
       "    }\n",
       "</style>\n",
       "<table border=\"1\" class=\"dataframe\">\n",
       "  <thead>\n",
       "    <tr style=\"text-align: right;\">\n",
       "      <th></th>\n",
       "      <th>labels_optics</th>\n",
       "    </tr>\n",
       "  </thead>\n",
       "  <tbody>\n",
       "    <tr>\n",
       "      <td>0</td>\n",
       "      <td>-1</td>\n",
       "    </tr>\n",
       "    <tr>\n",
       "      <td>1</td>\n",
       "      <td>-1</td>\n",
       "    </tr>\n",
       "  </tbody>\n",
       "</table>\n",
       "</div>"
      ],
      "text/plain": [
       "   labels_optics\n",
       "0             -1\n",
       "1             -1"
      ]
     },
     "execution_count": 127,
     "metadata": {},
     "output_type": "execute_result"
    }
   ],
   "source": [
    "# Rename the Label to Cluster Label\n",
    "lb.head(2)"
   ]
  },
  {
   "cell_type": "code",
   "execution_count": 120,
   "metadata": {},
   "outputs": [],
   "source": [
    "#Lets try to append the Labels to the Original Dataset (X in this case)\n",
    "# \n",
    "#mergedDf = X.merge(lb, left_index=True, right_index=True)"
   ]
  },
  {
   "cell_type": "code",
   "execution_count": 121,
   "metadata": {},
   "outputs": [],
   "source": [
    "#mergedDf.to_csv('/Users/spillai/Downloads/opt_out.csv')"
   ]
  },
  {
   "cell_type": "code",
   "execution_count": 126,
   "metadata": {},
   "outputs": [],
   "source": [
    "# OR merging in a way that we have the customer ID's and everything else we started with\n",
    "mergedDf2 = df.merge(lb, left_index=True, right_index=True)\n",
    "mergedDf2.to_csv('/Users/spillai/Downloads/opt_out2.csv')"
   ]
  },
  {
   "cell_type": "code",
   "execution_count": null,
   "metadata": {},
   "outputs": [],
   "source": []
  },
  {
   "cell_type": "code",
   "execution_count": 119,
   "metadata": {},
   "outputs": [
    {
     "data": {
      "image/png": "[encoded data removed]",
      "text/plain": [
       "<Figure size 720x504 with 4 Axes>"
      ]
     },
     "metadata": {
      "needs_background": "light"
     },
     "output_type": "display_data"
    }
   ],
   "source": [
    "\n",
    "# Defining the framework of the visualization \n",
    "plt.figure(figsize =(10, 7)) \n",
    "G = gridspec.GridSpec(2, 3) \n",
    "ax1 = plt.subplot(G[0, :]) \n",
    "ax2 = plt.subplot(G[1, 0]) \n",
    "ax3 = plt.subplot(G[1, 1]) \n",
    "ax4 = plt.subplot(G[1, 2]) \n",
    "  \n",
    "# Plotting the Reachability-Distance Plot \n",
    "colors = ['c.', 'b.', 'r.', 'y.', 'g.'] \n",
    "for Class, colour in zip(range(0, 5), colors): \n",
    "    Xk = space[labels == Class] \n",
    "    Rk = reachability[labels == Class] \n",
    "    ax1.plot(Xk, Rk, colour, alpha = 0.3) \n",
    "ax1.plot(space[labels == -1], reachability[labels == -1], 'k.', alpha = 0.3) \n",
    "ax1.plot(space, np.full_like(space, 2., dtype = float), 'k-', alpha = 0.5) \n",
    "ax1.plot(space, np.full_like(space, 0.5, dtype = float), 'k-.', alpha = 0.5) \n",
    "ax1.set_ylabel('Reachability Distance') \n",
    "ax1.set_title('Reachability Plot') \n",
    "  \n",
    "# Plotting the OPTICS Clustering \n",
    "colors = ['c.', 'b.', 'r.', 'y.', 'g.'] \n",
    "for Class, colour in zip(range(0, 5), colors): \n",
    "    Xk = X_normalized[optics_model.labels_ == Class] \n",
    "    ax2.plot(Xk.iloc[:, 0], Xk.iloc[:, 1], colour, alpha = 0.3) \n",
    "      \n",
    "ax2.plot(X_normalized.iloc[optics_model.labels_ == -1, 0], \n",
    "        X_normalized.iloc[optics_model.labels_ == -1, 1], \n",
    "       'k+', alpha = 0.1) \n",
    "ax2.set_title('OPTICS Clustering') \n",
    "  \n",
    "# Plotting the DBSCAN Clustering with eps = 0.5 \n",
    "colors = ['c', 'b', 'r', 'y', 'g', 'greenyellow'] \n",
    "for Class, colour in zip(range(0, 6), colors): \n",
    "    Xk = X_normalized[labels1 == Class] \n",
    "    ax3.plot(Xk.iloc[:, 0], Xk.iloc[:, 1], colour, alpha = 0.3, marker ='.') \n",
    "        \n",
    "ax3.plot(X_normalized.iloc[labels1 == -1, 0], \n",
    "        X_normalized.iloc[labels1 == -1, 1], \n",
    "       'k+', alpha = 0.1) \n",
    "ax3.set_title('DBSCAN clustering with eps = 0.5') \n",
    "  \n",
    "# Plotting the DBSCAN Clustering with eps = 2.0 \n",
    "colors = ['c.', 'y.', 'm.', 'g.'] \n",
    "for Class, colour in zip(range(0, 4), colors): \n",
    "    Xk = X_normalized.iloc[labels2 == Class] \n",
    "    ax4.plot(Xk.iloc[:, 0], Xk.iloc[:, 1], colour, alpha = 0.3) \n",
    "          \n",
    "ax4.plot(X_normalized.iloc[labels2 == -1, 0], \n",
    "        X_normalized.iloc[labels2 == -1, 1], \n",
    "       'k+', alpha = 0.1) \n",
    "ax4.set_title('DBSCAN Clustering with eps = 2.0') \n",
    "  \n",
    "  \n",
    "plt.tight_layout() \n",
    "plt.show() "
   ]
  },
  {
   "cell_type": "code",
   "execution_count": null,
   "metadata": {},
   "outputs": [],
   "source": []
  },
  {
   "cell_type": "code",
   "execution_count": 128,
   "metadata": {},
   "outputs": [],
   "source": [
    "import numpy as np\n",
    "from matplotlib import pyplot as plt\n",
    "import seaborn as sns\n",
    "sns.set()\n",
    "from sklearn.datasets.samples_generator import make_blobs\n",
    "from sklearn.cluster import Birch"
   ]
  },
  {
   "cell_type": "code",
   "execution_count": 228,
   "metadata": {},
   "outputs": [
    {
     "data": {
      "text/plain": [
       "Birch(branching_factor=50, compute_labels=True, copy=True, n_clusters=4,\n",
       "      threshold=0.3)"
      ]
     },
     "execution_count": 228,
     "metadata": {},
     "output_type": "execute_result"
    }
   ],
   "source": [
    "##########################################################################################\n",
    "# Need to look at these 3 parameters very closely to get a meaningful cluster allocation #  \n",
    "##########################################################################################\n",
    "brc = Birch(branching_factor=50, n_clusters=4, threshold=0.3)\n",
    "brc.fit(X_normalized)"
   ]
  },
  {
   "cell_type": "code",
   "execution_count": 229,
   "metadata": {},
   "outputs": [],
   "source": [
    "labels_birch = brc.predict(X)"
   ]
  },
  {
   "cell_type": "code",
   "execution_count": 230,
   "metadata": {},
   "outputs": [],
   "source": [
    "labels_birch=pd.DataFrame(labels_birch)"
   ]
  },
  {
   "cell_type": "code",
   "execution_count": 231,
   "metadata": {},
   "outputs": [],
   "source": [
    "labels_birch.columns=['Birch_Label']"
   ]
  },
  {
   "cell_type": "code",
   "execution_count": 232,
   "metadata": {},
   "outputs": [
    {
     "data": {
      "text/plain": [
       "0    2618\n",
       "1     424\n",
       "2     246\n",
       "Name: Birch_Label, dtype: int64"
      ]
     },
     "execution_count": 232,
     "metadata": {},
     "output_type": "execute_result"
    }
   ],
   "source": [
    "#labels_birch.groupby('Birch_Label').count()\n",
    "labels_birch.Birch_Label.value_counts()"
   ]
  },
  {
   "cell_type": "code",
   "execution_count": 134,
   "metadata": {},
   "outputs": [],
   "source": [
    "mergedDfbirch = df.merge(labels_birch, left_index=True, right_index=True)\n",
    "mergedDfbirch.to_csv('/Users/spillai/Downloads/birch_out.csv')"
   ]
  },
  {
   "cell_type": "code",
   "execution_count": null,
   "metadata": {},
   "outputs": [],
   "source": []
  }
 ],
 "metadata": {
  "colab": {
   "name": "RFM_Pyspark.ipynb",
   "provenance": []
  },
  "kernelspec": {
   "display_name": "Python 3",
   "language": "python",
   "name": "python3"
  },
  "language_info": {
   "codemirror_mode": {
    "name": "ipython",
    "version": 3
   },
   "file_extension": ".py",
   "mimetype": "text/x-python",
   "name": "python",
   "nbconvert_exporter": "python",
   "pygments_lexer": "ipython3",
   "version": "3.7.4"
  }
 },
 "nbformat": 4,
 "nbformat_minor": 1
}
