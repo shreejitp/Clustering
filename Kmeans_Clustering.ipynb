{
  "nbformat": 4,
  "nbformat_minor": 0,
  "metadata": {
    "colab": {
      "name": "Kmeans_Clustering.ipynb",
      "provenance": []
    },
    "kernelspec": {
      "name": "python3",
      "display_name": "Python 3"
    }
  },
  "cells": [
    {
      "cell_type": "code",
      "metadata": {
        "id": "9jEEbRmJcY6o",
        "colab_type": "code",
        "colab": {}
      },
      "source": [
        "import random \n",
        "import numpy as np \n",
        "import pandas as pd\n",
        "import matplotlib.pyplot as plt \n",
        "from sklearn.preprocessing import StandardScaler\n",
        "from IPython.display import display\n",
        "from sklearn.cluster import KMeans \n",
        "from sklearn.decomposition import PCA\n",
        "from mpl_toolkits.mplot3d import Axes3D\n",
        "from sklearn.metrics import homogeneity_score, completeness_score, \\\n",
        "v_measure_score, adjusted_rand_score, adjusted_mutual_info_score, silhouette_score\n",
        "%matplotlib inline\n",
        "\n",
        "np.random.seed(123)"
      ],
      "execution_count": 0,
      "outputs": []
    },
    {
      "cell_type": "markdown",
      "metadata": {
        "id": "8QMNIZpIOIP5",
        "colab_type": "text"
      },
      "source": [
        "Code from Kaggle- \n",
        "#https://www.kaggle.com/ruslankl/k-means-clustering-pca\n",
        "\n",
        "Allocating Cluster Numbers to the data \n",
        "#https://www.kaggle.com/prakharrathi25/weather-data-clustering-using-k-means\n",
        "\n"
      ]
    },
    {
      "cell_type": "code",
      "metadata": {
        "id": "nXjS0CpHxVp6",
        "colab_type": "code",
        "colab": {
          "resources": {
            "http://localhost:8080/nbextensions/google.colab/files.js": {
              "data": "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",
              "ok": true,
              "headers": [
                [
                  "content-type",
                  "application/javascript"
                ]
              ],
              "status": 200,
              "status_text": ""
            }
          },
          "base_uri": "https://localhost:8080/",
          "height": 71
        },
        "outputId": "d35c797b-0cd1-46c9-93d9-ba78436f99ca"
      },
      "source": [
        "from google.colab import files\n",
        "uploaded = files.upload()"
      ],
      "execution_count": 3,
      "outputs": [
        {
          "output_type": "display_data",
          "data": {
            "text/html": [
              "\n",
              "     <input type=\"file\" id=\"files-03ef051c-ce7c-4d6a-bc8d-1c198d3c1ec5\" name=\"files[]\" multiple disabled />\n",
              "     <output id=\"result-03ef051c-ce7c-4d6a-bc8d-1c198d3c1ec5\">\n",
              "      Upload widget is only available when the cell has been executed in the\n",
              "      current browser session. Please rerun this cell to enable.\n",
              "      </output>\n",
              "      <script src=\"/nbextensions/google.colab/files.js\"></script> "
            ],
            "text/plain": [
              "<IPython.core.display.HTML object>"
            ]
          },
          "metadata": {
            "tags": []
          }
        },
        {
          "output_type": "stream",
          "text": [
            "Saving train.csv to train.csv\n"
          ],
          "name": "stdout"
        }
      ]
    },
    {
      "cell_type": "code",
      "metadata": {
        "id": "v5XaJRu4xaPw",
        "colab_type": "code",
        "colab": {}
      },
      "source": [
        "import pandas as pd\n",
        "import io\n",
        "Data = pd.read_csv(io.BytesIO(uploaded['train.csv']))"
      ],
      "execution_count": 0,
      "outputs": []
    },
    {
      "cell_type": "code",
      "metadata": {
        "id": "k6fb3598xl7Z",
        "colab_type": "code",
        "colab": {
          "base_uri": "https://localhost:8080/",
          "height": 253
        },
        "outputId": "2912e555-4e36-4e31-96cc-a6afdf53db12"
      },
      "source": [
        "# Sample of Data \n",
        "Data.sample(5)"
      ],
      "execution_count": 6,
      "outputs": [
        {
          "output_type": "execute_result",
          "data": {
            "text/html": [
              "<div>\n",
              "<style scoped>\n",
              "    .dataframe tbody tr th:only-of-type {\n",
              "        vertical-align: middle;\n",
              "    }\n",
              "\n",
              "    .dataframe tbody tr th {\n",
              "        vertical-align: top;\n",
              "    }\n",
              "\n",
              "    .dataframe thead th {\n",
              "        text-align: right;\n",
              "    }\n",
              "</style>\n",
              "<table border=\"1\" class=\"dataframe\">\n",
              "  <thead>\n",
              "    <tr style=\"text-align: right;\">\n",
              "      <th></th>\n",
              "      <th>rn</th>\n",
              "      <th>activity</th>\n",
              "      <th>tBodyAcc.mean.X</th>\n",
              "      <th>tBodyAcc.mean.Y</th>\n",
              "      <th>tBodyAcc.mean.Z</th>\n",
              "      <th>tBodyAcc.std.X</th>\n",
              "      <th>tBodyAcc.std.Y</th>\n",
              "      <th>tBodyAcc.std.Z</th>\n",
              "      <th>tBodyAcc.mad.X</th>\n",
              "      <th>tBodyAcc.mad.Y</th>\n",
              "      <th>tBodyAcc.mad.Z</th>\n",
              "      <th>tBodyAcc.max.X</th>\n",
              "      <th>tBodyAcc.max.Y</th>\n",
              "      <th>tBodyAcc.max.Z</th>\n",
              "      <th>tBodyAcc.min.X</th>\n",
              "      <th>tBodyAcc.min.Y</th>\n",
              "      <th>tBodyAcc.min.Z</th>\n",
              "      <th>tBodyAcc.sma</th>\n",
              "      <th>tBodyAcc.energy.X</th>\n",
              "      <th>tBodyAcc.energy.Y</th>\n",
              "      <th>tBodyAcc.energy.Z</th>\n",
              "      <th>tBodyAcc.iqr.X</th>\n",
              "      <th>tBodyAcc.iqr.Y</th>\n",
              "      <th>tBodyAcc.iqr.Z</th>\n",
              "      <th>tBodyAcc.entropy.X</th>\n",
              "      <th>tBodyAcc.entropy.Y</th>\n",
              "      <th>tBodyAcc.entropy.Z</th>\n",
              "      <th>tBodyAcc.arCoeff.X.1</th>\n",
              "      <th>tBodyAcc.arCoeff.X.2</th>\n",
              "      <th>tBodyAcc.arCoeff.X.3</th>\n",
              "      <th>tBodyAcc.arCoeff.X.4</th>\n",
              "      <th>tBodyAcc.arCoeff.Y.1</th>\n",
              "      <th>tBodyAcc.arCoeff.Y.2</th>\n",
              "      <th>tBodyAcc.arCoeff.Y.3</th>\n",
              "      <th>tBodyAcc.arCoeff.Y.4</th>\n",
              "      <th>tBodyAcc.arCoeff.Z.1</th>\n",
              "      <th>tBodyAcc.arCoeff.Z.2</th>\n",
              "      <th>tBodyAcc.arCoeff.Z.3</th>\n",
              "      <th>tBodyAcc.arCoeff.Z.4</th>\n",
              "      <th>tBodyAcc.correlation.X.Y</th>\n",
              "      <th>...</th>\n",
              "      <th>fBodyBodyAccJerkMag.energy</th>\n",
              "      <th>fBodyBodyAccJerkMag.iqr</th>\n",
              "      <th>fBodyBodyAccJerkMag.entropy</th>\n",
              "      <th>fBodyBodyAccJerkMag.maxInds</th>\n",
              "      <th>fBodyBodyAccJerkMag.meanFreq</th>\n",
              "      <th>fBodyBodyAccJerkMag.skewness</th>\n",
              "      <th>fBodyBodyAccJerkMag.kurtosis</th>\n",
              "      <th>fBodyBodyGyroMag.mean</th>\n",
              "      <th>fBodyBodyGyroMag.std</th>\n",
              "      <th>fBodyBodyGyroMag.mad</th>\n",
              "      <th>fBodyBodyGyroMag.max</th>\n",
              "      <th>fBodyBodyGyroMag.min</th>\n",
              "      <th>fBodyBodyGyroMag.sma</th>\n",
              "      <th>fBodyBodyGyroMag.energy</th>\n",
              "      <th>fBodyBodyGyroMag.iqr</th>\n",
              "      <th>fBodyBodyGyroMag.entropy</th>\n",
              "      <th>fBodyBodyGyroMag.maxInds</th>\n",
              "      <th>fBodyBodyGyroMag.meanFreq</th>\n",
              "      <th>fBodyBodyGyroMag.skewness</th>\n",
              "      <th>fBodyBodyGyroMag.kurtosis</th>\n",
              "      <th>fBodyBodyGyroJerkMag.mean</th>\n",
              "      <th>fBodyBodyGyroJerkMag.std</th>\n",
              "      <th>fBodyBodyGyroJerkMag.mad</th>\n",
              "      <th>fBodyBodyGyroJerkMag.max</th>\n",
              "      <th>fBodyBodyGyroJerkMag.min</th>\n",
              "      <th>fBodyBodyGyroJerkMag.sma</th>\n",
              "      <th>fBodyBodyGyroJerkMag.energy</th>\n",
              "      <th>fBodyBodyGyroJerkMag.iqr</th>\n",
              "      <th>fBodyBodyGyroJerkMag.entropy</th>\n",
              "      <th>fBodyBodyGyroJerkMag.maxInds</th>\n",
              "      <th>fBodyBodyGyroJerkMag.meanFreq</th>\n",
              "      <th>fBodyBodyGyroJerkMag.skewness</th>\n",
              "      <th>fBodyBodyGyroJerkMag.kurtosis</th>\n",
              "      <th>angle.tBodyAccMean.gravity</th>\n",
              "      <th>angle.tBodyAccJerkMean.gravityMean</th>\n",
              "      <th>angle.tBodyGyroMean.gravityMean</th>\n",
              "      <th>angle.tBodyGyroJerkMean.gravityMean</th>\n",
              "      <th>angle.X.gravityMean</th>\n",
              "      <th>angle.Y.gravityMean</th>\n",
              "      <th>angle.Z.gravityMean</th>\n",
              "    </tr>\n",
              "  </thead>\n",
              "  <tbody>\n",
              "    <tr>\n",
              "      <th>613</th>\n",
              "      <td>1739</td>\n",
              "      <td>WALKING_UPSTAIRS</td>\n",
              "      <td>0.241</td>\n",
              "      <td>-0.00873</td>\n",
              "      <td>-0.1060</td>\n",
              "      <td>-0.216</td>\n",
              "      <td>0.3220</td>\n",
              "      <td>-0.0801</td>\n",
              "      <td>-0.267</td>\n",
              "      <td>0.315</td>\n",
              "      <td>-0.124</td>\n",
              "      <td>-0.144</td>\n",
              "      <td>0.239</td>\n",
              "      <td>-0.108</td>\n",
              "      <td>-0.00806</td>\n",
              "      <td>-0.0447</td>\n",
              "      <td>0.466</td>\n",
              "      <td>0.0204</td>\n",
              "      <td>-0.691</td>\n",
              "      <td>-0.664</td>\n",
              "      <td>-0.620</td>\n",
              "      <td>-0.351</td>\n",
              "      <td>-0.0239</td>\n",
              "      <td>-0.472</td>\n",
              "      <td>0.463</td>\n",
              "      <td>0.376</td>\n",
              "      <td>-0.152</td>\n",
              "      <td>-0.3340</td>\n",
              "      <td>0.25900</td>\n",
              "      <td>-0.1090</td>\n",
              "      <td>0.0766</td>\n",
              "      <td>-0.1920</td>\n",
              "      <td>0.1430</td>\n",
              "      <td>0.00736</td>\n",
              "      <td>0.185</td>\n",
              "      <td>-0.1450</td>\n",
              "      <td>0.0809</td>\n",
              "      <td>-0.0649</td>\n",
              "      <td>0.0856</td>\n",
              "      <td>-0.324</td>\n",
              "      <td>...</td>\n",
              "      <td>-0.781</td>\n",
              "      <td>-0.423</td>\n",
              "      <td>0.232</td>\n",
              "      <td>-0.841</td>\n",
              "      <td>0.4660</td>\n",
              "      <td>-0.820</td>\n",
              "      <td>-0.973</td>\n",
              "      <td>-0.2690</td>\n",
              "      <td>-0.284</td>\n",
              "      <td>-0.189</td>\n",
              "      <td>-0.460</td>\n",
              "      <td>-0.796</td>\n",
              "      <td>-0.2690</td>\n",
              "      <td>-0.676</td>\n",
              "      <td>-0.347</td>\n",
              "      <td>0.5720</td>\n",
              "      <td>-0.795</td>\n",
              "      <td>-0.138</td>\n",
              "      <td>-0.514</td>\n",
              "      <td>-0.832</td>\n",
              "      <td>-0.529</td>\n",
              "      <td>-0.677</td>\n",
              "      <td>-0.578</td>\n",
              "      <td>-0.782</td>\n",
              "      <td>-0.905</td>\n",
              "      <td>-0.529</td>\n",
              "      <td>-0.909</td>\n",
              "      <td>-0.458</td>\n",
              "      <td>0.461</td>\n",
              "      <td>-0.651</td>\n",
              "      <td>0.358</td>\n",
              "      <td>-0.726</td>\n",
              "      <td>-0.9410</td>\n",
              "      <td>0.86900</td>\n",
              "      <td>0.337</td>\n",
              "      <td>-0.916</td>\n",
              "      <td>0.7750</td>\n",
              "      <td>-0.686</td>\n",
              "      <td>0.314</td>\n",
              "      <td>0.034</td>\n",
              "    </tr>\n",
              "    <tr>\n",
              "      <th>2306</th>\n",
              "      <td>6598</td>\n",
              "      <td>WALKING_DOWNSTAIRS</td>\n",
              "      <td>0.238</td>\n",
              "      <td>-0.03990</td>\n",
              "      <td>-0.1580</td>\n",
              "      <td>0.284</td>\n",
              "      <td>0.2270</td>\n",
              "      <td>-0.1330</td>\n",
              "      <td>0.245</td>\n",
              "      <td>0.214</td>\n",
              "      <td>-0.169</td>\n",
              "      <td>0.623</td>\n",
              "      <td>0.258</td>\n",
              "      <td>-0.401</td>\n",
              "      <td>-0.08310</td>\n",
              "      <td>0.0248</td>\n",
              "      <td>0.132</td>\n",
              "      <td>0.2640</td>\n",
              "      <td>-0.176</td>\n",
              "      <td>-0.709</td>\n",
              "      <td>-0.658</td>\n",
              "      <td>0.201</td>\n",
              "      <td>-0.0497</td>\n",
              "      <td>-0.203</td>\n",
              "      <td>0.345</td>\n",
              "      <td>0.234</td>\n",
              "      <td>0.245</td>\n",
              "      <td>-0.2170</td>\n",
              "      <td>0.05410</td>\n",
              "      <td>-0.0314</td>\n",
              "      <td>0.3450</td>\n",
              "      <td>0.0475</td>\n",
              "      <td>-0.0105</td>\n",
              "      <td>0.14400</td>\n",
              "      <td>0.127</td>\n",
              "      <td>0.0450</td>\n",
              "      <td>0.1570</td>\n",
              "      <td>-0.1820</td>\n",
              "      <td>0.1010</td>\n",
              "      <td>-0.512</td>\n",
              "      <td>...</td>\n",
              "      <td>-0.497</td>\n",
              "      <td>-0.197</td>\n",
              "      <td>0.532</td>\n",
              "      <td>-0.873</td>\n",
              "      <td>0.1590</td>\n",
              "      <td>-0.205</td>\n",
              "      <td>-0.553</td>\n",
              "      <td>-0.0911</td>\n",
              "      <td>-0.279</td>\n",
              "      <td>-0.134</td>\n",
              "      <td>-0.470</td>\n",
              "      <td>-0.570</td>\n",
              "      <td>-0.0911</td>\n",
              "      <td>-0.601</td>\n",
              "      <td>-0.156</td>\n",
              "      <td>0.7530</td>\n",
              "      <td>-0.846</td>\n",
              "      <td>0.170</td>\n",
              "      <td>-0.587</td>\n",
              "      <td>-0.866</td>\n",
              "      <td>-0.260</td>\n",
              "      <td>-0.350</td>\n",
              "      <td>-0.324</td>\n",
              "      <td>-0.428</td>\n",
              "      <td>-0.747</td>\n",
              "      <td>-0.260</td>\n",
              "      <td>-0.736</td>\n",
              "      <td>-0.370</td>\n",
              "      <td>0.545</td>\n",
              "      <td>-0.873</td>\n",
              "      <td>0.302</td>\n",
              "      <td>-0.190</td>\n",
              "      <td>-0.5850</td>\n",
              "      <td>0.09500</td>\n",
              "      <td>-0.684</td>\n",
              "      <td>0.937</td>\n",
              "      <td>-0.6360</td>\n",
              "      <td>-0.749</td>\n",
              "      <td>0.235</td>\n",
              "      <td>0.127</td>\n",
              "    </tr>\n",
              "    <tr>\n",
              "      <th>800</th>\n",
              "      <td>2291</td>\n",
              "      <td>LAYING</td>\n",
              "      <td>0.280</td>\n",
              "      <td>-0.02310</td>\n",
              "      <td>-0.0998</td>\n",
              "      <td>-0.978</td>\n",
              "      <td>-0.9650</td>\n",
              "      <td>-0.9690</td>\n",
              "      <td>-0.980</td>\n",
              "      <td>-0.964</td>\n",
              "      <td>-0.970</td>\n",
              "      <td>-0.929</td>\n",
              "      <td>-0.561</td>\n",
              "      <td>-0.797</td>\n",
              "      <td>0.82400</td>\n",
              "      <td>0.6800</td>\n",
              "      <td>0.836</td>\n",
              "      <td>-0.9700</td>\n",
              "      <td>-1.000</td>\n",
              "      <td>-1.000</td>\n",
              "      <td>-0.999</td>\n",
              "      <td>-0.981</td>\n",
              "      <td>-0.9650</td>\n",
              "      <td>-0.970</td>\n",
              "      <td>-0.276</td>\n",
              "      <td>-0.581</td>\n",
              "      <td>-0.274</td>\n",
              "      <td>-0.1830</td>\n",
              "      <td>-0.00832</td>\n",
              "      <td>0.1180</td>\n",
              "      <td>0.0359</td>\n",
              "      <td>0.0469</td>\n",
              "      <td>-0.0692</td>\n",
              "      <td>-0.06490</td>\n",
              "      <td>0.389</td>\n",
              "      <td>0.1360</td>\n",
              "      <td>-0.1440</td>\n",
              "      <td>0.2060</td>\n",
              "      <td>-0.1540</td>\n",
              "      <td>0.479</td>\n",
              "      <td>...</td>\n",
              "      <td>-1.000</td>\n",
              "      <td>-0.990</td>\n",
              "      <td>-1.000</td>\n",
              "      <td>-0.143</td>\n",
              "      <td>0.4880</td>\n",
              "      <td>-0.604</td>\n",
              "      <td>-0.903</td>\n",
              "      <td>-0.9780</td>\n",
              "      <td>-0.957</td>\n",
              "      <td>-0.967</td>\n",
              "      <td>-0.947</td>\n",
              "      <td>-0.997</td>\n",
              "      <td>-0.9780</td>\n",
              "      <td>-0.999</td>\n",
              "      <td>-0.982</td>\n",
              "      <td>-0.6370</td>\n",
              "      <td>-1.000</td>\n",
              "      <td>-0.474</td>\n",
              "      <td>0.537</td>\n",
              "      <td>0.360</td>\n",
              "      <td>-0.992</td>\n",
              "      <td>-0.996</td>\n",
              "      <td>-0.994</td>\n",
              "      <td>-0.997</td>\n",
              "      <td>-0.988</td>\n",
              "      <td>-0.992</td>\n",
              "      <td>-1.000</td>\n",
              "      <td>-0.992</td>\n",
              "      <td>-1.000</td>\n",
              "      <td>-0.683</td>\n",
              "      <td>0.494</td>\n",
              "      <td>-0.863</td>\n",
              "      <td>-0.9560</td>\n",
              "      <td>-0.12800</td>\n",
              "      <td>0.262</td>\n",
              "      <td>-0.098</td>\n",
              "      <td>0.0558</td>\n",
              "      <td>0.420</td>\n",
              "      <td>-0.278</td>\n",
              "      <td>-0.714</td>\n",
              "    </tr>\n",
              "    <tr>\n",
              "      <th>1621</th>\n",
              "      <td>4615</td>\n",
              "      <td>LAYING</td>\n",
              "      <td>0.320</td>\n",
              "      <td>0.03790</td>\n",
              "      <td>-0.1530</td>\n",
              "      <td>-0.642</td>\n",
              "      <td>-0.5340</td>\n",
              "      <td>-0.7920</td>\n",
              "      <td>-0.647</td>\n",
              "      <td>-0.615</td>\n",
              "      <td>-0.788</td>\n",
              "      <td>-0.526</td>\n",
              "      <td>-0.160</td>\n",
              "      <td>-0.696</td>\n",
              "      <td>0.58800</td>\n",
              "      <td>0.4050</td>\n",
              "      <td>0.689</td>\n",
              "      <td>-0.6140</td>\n",
              "      <td>-0.934</td>\n",
              "      <td>-0.952</td>\n",
              "      <td>-0.975</td>\n",
              "      <td>-0.683</td>\n",
              "      <td>-0.7880</td>\n",
              "      <td>-0.791</td>\n",
              "      <td>0.385</td>\n",
              "      <td>0.410</td>\n",
              "      <td>-0.232</td>\n",
              "      <td>-0.0884</td>\n",
              "      <td>0.13000</td>\n",
              "      <td>-0.3640</td>\n",
              "      <td>0.2470</td>\n",
              "      <td>-0.0692</td>\n",
              "      <td>0.0456</td>\n",
              "      <td>0.01410</td>\n",
              "      <td>0.121</td>\n",
              "      <td>0.0129</td>\n",
              "      <td>-0.0357</td>\n",
              "      <td>0.3130</td>\n",
              "      <td>-0.4300</td>\n",
              "      <td>0.454</td>\n",
              "      <td>...</td>\n",
              "      <td>-0.972</td>\n",
              "      <td>-0.801</td>\n",
              "      <td>-0.195</td>\n",
              "      <td>-0.968</td>\n",
              "      <td>-0.0905</td>\n",
              "      <td>-0.232</td>\n",
              "      <td>-0.649</td>\n",
              "      <td>-0.7800</td>\n",
              "      <td>-0.648</td>\n",
              "      <td>-0.692</td>\n",
              "      <td>-0.697</td>\n",
              "      <td>-0.975</td>\n",
              "      <td>-0.7800</td>\n",
              "      <td>-0.941</td>\n",
              "      <td>-0.831</td>\n",
              "      <td>0.0962</td>\n",
              "      <td>-0.897</td>\n",
              "      <td>-0.558</td>\n",
              "      <td>-0.102</td>\n",
              "      <td>-0.549</td>\n",
              "      <td>-0.886</td>\n",
              "      <td>-0.910</td>\n",
              "      <td>-0.899</td>\n",
              "      <td>-0.920</td>\n",
              "      <td>-0.912</td>\n",
              "      <td>-0.886</td>\n",
              "      <td>-0.994</td>\n",
              "      <td>-0.896</td>\n",
              "      <td>-0.242</td>\n",
              "      <td>-0.968</td>\n",
              "      <td>0.309</td>\n",
              "      <td>-0.388</td>\n",
              "      <td>-0.7290</td>\n",
              "      <td>0.00812</td>\n",
              "      <td>-0.139</td>\n",
              "      <td>0.170</td>\n",
              "      <td>0.5200</td>\n",
              "      <td>0.685</td>\n",
              "      <td>-0.250</td>\n",
              "      <td>-0.760</td>\n",
              "    </tr>\n",
              "    <tr>\n",
              "      <th>1436</th>\n",
              "      <td>4111</td>\n",
              "      <td>WALKING</td>\n",
              "      <td>0.211</td>\n",
              "      <td>-0.04250</td>\n",
              "      <td>-0.0977</td>\n",
              "      <td>-0.324</td>\n",
              "      <td>-0.0342</td>\n",
              "      <td>-0.2350</td>\n",
              "      <td>-0.362</td>\n",
              "      <td>-0.031</td>\n",
              "      <td>-0.223</td>\n",
              "      <td>-0.110</td>\n",
              "      <td>-0.138</td>\n",
              "      <td>-0.378</td>\n",
              "      <td>0.23100</td>\n",
              "      <td>0.1430</td>\n",
              "      <td>0.366</td>\n",
              "      <td>-0.1600</td>\n",
              "      <td>-0.769</td>\n",
              "      <td>-0.818</td>\n",
              "      <td>-0.735</td>\n",
              "      <td>-0.418</td>\n",
              "      <td>-0.2280</td>\n",
              "      <td>-0.178</td>\n",
              "      <td>0.351</td>\n",
              "      <td>0.378</td>\n",
              "      <td>0.323</td>\n",
              "      <td>-0.4770</td>\n",
              "      <td>0.55800</td>\n",
              "      <td>-0.3680</td>\n",
              "      <td>0.1780</td>\n",
              "      <td>-0.4080</td>\n",
              "      <td>0.4450</td>\n",
              "      <td>-0.16400</td>\n",
              "      <td>0.113</td>\n",
              "      <td>-0.2010</td>\n",
              "      <td>0.1780</td>\n",
              "      <td>-0.0180</td>\n",
              "      <td>-0.0641</td>\n",
              "      <td>-0.392</td>\n",
              "      <td>...</td>\n",
              "      <td>-0.566</td>\n",
              "      <td>-0.250</td>\n",
              "      <td>0.462</td>\n",
              "      <td>-0.873</td>\n",
              "      <td>0.2010</td>\n",
              "      <td>0.530</td>\n",
              "      <td>0.328</td>\n",
              "      <td>-0.4690</td>\n",
              "      <td>-0.590</td>\n",
              "      <td>-0.497</td>\n",
              "      <td>-0.648</td>\n",
              "      <td>-0.816</td>\n",
              "      <td>-0.4690</td>\n",
              "      <td>-0.867</td>\n",
              "      <td>-0.376</td>\n",
              "      <td>0.5590</td>\n",
              "      <td>-0.795</td>\n",
              "      <td>0.346</td>\n",
              "      <td>-0.595</td>\n",
              "      <td>-0.817</td>\n",
              "      <td>-0.594</td>\n",
              "      <td>-0.467</td>\n",
              "      <td>-0.507</td>\n",
              "      <td>-0.421</td>\n",
              "      <td>-0.567</td>\n",
              "      <td>-0.594</td>\n",
              "      <td>-0.883</td>\n",
              "      <td>-0.582</td>\n",
              "      <td>0.333</td>\n",
              "      <td>-0.873</td>\n",
              "      <td>0.241</td>\n",
              "      <td>0.320</td>\n",
              "      <td>0.0199</td>\n",
              "      <td>0.30500</td>\n",
              "      <td>-0.493</td>\n",
              "      <td>0.727</td>\n",
              "      <td>-0.4360</td>\n",
              "      <td>-0.572</td>\n",
              "      <td>0.344</td>\n",
              "      <td>0.182</td>\n",
              "    </tr>\n",
              "  </tbody>\n",
              "</table>\n",
              "<p>5 rows × 563 columns</p>\n",
              "</div>"
            ],
            "text/plain": [
              "        rn            activity  ...  angle.Y.gravityMean  angle.Z.gravityMean\n",
              "613   1739    WALKING_UPSTAIRS  ...                0.314                0.034\n",
              "2306  6598  WALKING_DOWNSTAIRS  ...                0.235                0.127\n",
              "800   2291              LAYING  ...               -0.278               -0.714\n",
              "1621  4615              LAYING  ...               -0.250               -0.760\n",
              "1436  4111             WALKING  ...                0.344                0.182\n",
              "\n",
              "[5 rows x 563 columns]"
            ]
          },
          "metadata": {
            "tags": []
          },
          "execution_count": 6
        }
      ]
    },
    {
      "cell_type": "code",
      "metadata": {
        "id": "3sZFFNNqxzjv",
        "colab_type": "code",
        "colab": {
          "base_uri": "https://localhost:8080/",
          "height": 34
        },
        "outputId": "57ed9078-bc6e-4eb7-f57a-cbef8b16a30f"
      },
      "source": [
        "print('Shape of the data set: ' + str(Data.shape))"
      ],
      "execution_count": 7,
      "outputs": [
        {
          "output_type": "stream",
          "text": [
            "Shape of the data set: (3609, 563)\n"
          ],
          "name": "stdout"
        }
      ]
    },
    {
      "cell_type": "code",
      "metadata": {
        "id": "MyawAhfJyEmQ",
        "colab_type": "code",
        "colab": {
          "base_uri": "https://localhost:8080/",
          "height": 153
        },
        "outputId": "a4d8b9d9-e994-463a-98a0-cef61e2b24f1"
      },
      "source": [
        "Data.groupby(['activity']).rn.count()"
      ],
      "execution_count": 8,
      "outputs": [
        {
          "output_type": "execute_result",
          "data": {
            "text/plain": [
              "activity\n",
              "LAYING                681\n",
              "SITTING               623\n",
              "STANDING              668\n",
              "WALKING               603\n",
              "WALKING_DOWNSTAIRS    493\n",
              "WALKING_UPSTAIRS      541\n",
              "Name: rn, dtype: int64"
            ]
          },
          "metadata": {
            "tags": []
          },
          "execution_count": 8
        }
      ]
    },
    {
      "cell_type": "code",
      "metadata": {
        "id": "HEV4e5H5yLz3",
        "colab_type": "code",
        "colab": {}
      },
      "source": [
        ""
      ],
      "execution_count": 0,
      "outputs": []
    },
    {
      "cell_type": "code",
      "metadata": {
        "id": "fJkgft0kyBsr",
        "colab_type": "code",
        "colab": {
          "base_uri": "https://localhost:8080/",
          "height": 34
        },
        "outputId": "0885cd3d-29e2-45bb-a2c4-138739841007"
      },
      "source": [
        "#save labels as string\n",
        "Labels = Data['activity']\n",
        "Data = Data.drop(['rn', 'activity'], axis = 1)\n",
        "Labels_keys = Labels.unique().tolist()\n",
        "Labels = np.array(Labels)\n",
        "print('Activity labels: ' + str(Labels_keys))"
      ],
      "execution_count": 9,
      "outputs": [
        {
          "output_type": "stream",
          "text": [
            "Activity labels: ['STANDING', 'SITTING', 'LAYING', 'WALKING', 'WALKING_DOWNSTAIRS', 'WALKING_UPSTAIRS']\n"
          ],
          "name": "stdout"
        }
      ]
    },
    {
      "cell_type": "code",
      "metadata": {
        "id": "w342HXUk8biS",
        "colab_type": "code",
        "colab": {
          "base_uri": "https://localhost:8080/",
          "height": 34
        },
        "outputId": "bbba77eb-41e8-4ab9-8518-a25028dbb02f"
      },
      "source": [
        "#check for missing values\n",
        "Temp = pd.DataFrame(Data.isnull().sum())\n",
        "Temp.columns = ['Sum']\n",
        "print('Amount of rows with missing values: ' + str(len(Temp.index[Temp['Sum'] > 0])) )"
      ],
      "execution_count": 10,
      "outputs": [
        {
          "output_type": "stream",
          "text": [
            "Amount of rows with missing values: 0\n"
          ],
          "name": "stdout"
        }
      ]
    },
    {
      "cell_type": "code",
      "metadata": {
        "id": "74Toco3b8u0B",
        "colab_type": "code",
        "colab": {}
      },
      "source": [
        "#normalize the dataset\n",
        "scaler = StandardScaler()\n",
        "Data = scaler.fit_transform(Data)"
      ],
      "execution_count": 0,
      "outputs": []
    },
    {
      "cell_type": "code",
      "metadata": {
        "id": "_ZPNQcEC83VZ",
        "colab_type": "code",
        "colab": {
          "base_uri": "https://localhost:8080/",
          "height": 34
        },
        "outputId": "aa82165f-71ac-4b1b-960b-10b66c54fb87"
      },
      "source": [
        "# Dropped 2 columns - rn and activity \n",
        "Data.shape"
      ],
      "execution_count": 19,
      "outputs": [
        {
          "output_type": "execute_result",
          "data": {
            "text/plain": [
              "(3609, 561)"
            ]
          },
          "metadata": {
            "tags": []
          },
          "execution_count": 19
        }
      ]
    },
    {
      "cell_type": "code",
      "metadata": {
        "id": "ISsQPcDK8yNF",
        "colab_type": "code",
        "colab": {
          "base_uri": "https://localhost:8080/",
          "height": 333
        },
        "outputId": "32f829bc-f0b9-42ff-d67e-e029954f8018"
      },
      "source": [
        "#check the optimal k value\n",
        "ks = range(1, 10)\n",
        "inertias = []\n",
        "\n",
        "for k in ks:\n",
        "    model = KMeans(n_clusters=k)\n",
        "    model.fit(Data)\n",
        "    inertias.append(model.inertia_)\n",
        "\n",
        "plt.figure(figsize=(8,5))\n",
        "plt.style.use('bmh')\n",
        "plt.plot(ks, inertias, '-o')\n",
        "plt.xlabel('Number of clusters, k')\n",
        "plt.ylabel('Inertia')\n",
        "plt.xticks(ks)\n",
        "plt.show()"
      ],
      "execution_count": 16,
      "outputs": [
        {
          "output_type": "display_data",
          "data": {
            "image/png": "[encoded data removed]",
            "text/plain": [
              "<Figure size 576x360 with 1 Axes>"
            ]
          },
          "metadata": {
            "tags": []
          }
        }
      ]
    },
    {
      "cell_type": "code",
      "metadata": {
        "id": "yxwv6_SE-jm2",
        "colab_type": "code",
        "colab": {}
      },
      "source": [
        "def k_means(n_clust, data_frame, true_labels):\n",
        "    \"\"\"\n",
        "    Function k_means applies k-means clustering alrorithm on dataset and prints the crosstab of cluster and actual labels \n",
        "    and clustering performance parameters.\n",
        "    \n",
        "    Input:\n",
        "    n_clust - number of clusters (k value)\n",
        "    data_frame - dataset we want to cluster\n",
        "    true_labels - original labels\n",
        "    \n",
        "    Output:\n",
        "    1 - crosstab of cluster and actual labels\n",
        "    2 - performance table\n",
        "    \"\"\"\n",
        "    k_means = KMeans(n_clusters = n_clust, random_state=123, n_init=30)\n",
        "    k_means.fit(data_frame)\n",
        "    c_labels = k_means.labels_\n",
        "    df = pd.DataFrame({'clust_label': c_labels, 'orig_label': true_labels.tolist()})\n",
        "    ct = pd.crosstab(df['clust_label'], df['orig_label'])\n",
        "    y_clust = k_means.predict(data_frame)\n",
        "    display(ct)\n",
        "    print('% 9s' % 'inertia  homo    compl   v-meas   ARI     AMI     silhouette')\n",
        "    print('%i   %.3f   %.3f   %.3f   %.3f   %.3f    %.3f'\n",
        "      %(k_means.inertia_,\n",
        "      homogeneity_score(true_labels, y_clust),\n",
        "      completeness_score(true_labels, y_clust),\n",
        "      v_measure_score(true_labels, y_clust),\n",
        "      adjusted_rand_score(true_labels, y_clust),\n",
        "      adjusted_mutual_info_score(true_labels, y_clust),\n",
        "      silhouette_score(data_frame, y_clust, metric='euclidean')))"
      ],
      "execution_count": 0,
      "outputs": []
    },
    {
      "cell_type": "code",
      "metadata": {
        "id": "8KfYi-5jA_v-",
        "colab_type": "code",
        "colab": {
          "base_uri": "https://localhost:8080/",
          "height": 230
        },
        "outputId": "3a8227cd-f9a2-4f76-fc67-9aa2813844e7"
      },
      "source": [
        "k_means(n_clust=2, data_frame=Data, true_labels=Labels)"
      ],
      "execution_count": 22,
      "outputs": [
        {
          "output_type": "display_data",
          "data": {
            "text/html": [
              "<div>\n",
              "<style scoped>\n",
              "    .dataframe tbody tr th:only-of-type {\n",
              "        vertical-align: middle;\n",
              "    }\n",
              "\n",
              "    .dataframe tbody tr th {\n",
              "        vertical-align: top;\n",
              "    }\n",
              "\n",
              "    .dataframe thead th {\n",
              "        text-align: right;\n",
              "    }\n",
              "</style>\n",
              "<table border=\"1\" class=\"dataframe\">\n",
              "  <thead>\n",
              "    <tr style=\"text-align: right;\">\n",
              "      <th>orig_label</th>\n",
              "      <th>LAYING</th>\n",
              "      <th>SITTING</th>\n",
              "      <th>STANDING</th>\n",
              "      <th>WALKING</th>\n",
              "      <th>WALKING_DOWNSTAIRS</th>\n",
              "      <th>WALKING_UPSTAIRS</th>\n",
              "    </tr>\n",
              "    <tr>\n",
              "      <th>clust_label</th>\n",
              "      <th></th>\n",
              "      <th></th>\n",
              "      <th></th>\n",
              "      <th></th>\n",
              "      <th></th>\n",
              "      <th></th>\n",
              "    </tr>\n",
              "  </thead>\n",
              "  <tbody>\n",
              "    <tr>\n",
              "      <th>0</th>\n",
              "      <td>680</td>\n",
              "      <td>622</td>\n",
              "      <td>668</td>\n",
              "      <td>0</td>\n",
              "      <td>0</td>\n",
              "      <td>6</td>\n",
              "    </tr>\n",
              "    <tr>\n",
              "      <th>1</th>\n",
              "      <td>1</td>\n",
              "      <td>1</td>\n",
              "      <td>0</td>\n",
              "      <td>603</td>\n",
              "      <td>493</td>\n",
              "      <td>535</td>\n",
              "    </tr>\n",
              "  </tbody>\n",
              "</table>\n",
              "</div>"
            ],
            "text/plain": [
              "orig_label   LAYING  SITTING  ...  WALKING_DOWNSTAIRS  WALKING_UPSTAIRS\n",
              "clust_label                   ...                                      \n",
              "0               680      622  ...                   0                 6\n",
              "1                 1        1  ...                 493               535\n",
              "\n",
              "[2 rows x 6 columns]"
            ]
          },
          "metadata": {
            "tags": []
          }
        },
        {
          "output_type": "stream",
          "text": [
            "inertia  homo    compl   v-meas   ARI     AMI     silhouette\n"
          ],
          "name": "stdout"
        },
        {
          "output_type": "stream",
          "text": [
            "/usr/local/lib/python3.6/dist-packages/sklearn/metrics/cluster/supervised.py:746: FutureWarning: The behavior of AMI will change in version 0.22. To match the behavior of 'v_measure_score', AMI will use average_method='arithmetic' by default.\n",
            "  FutureWarning)\n"
          ],
          "name": "stderr"
        },
        {
          "output_type": "stream",
          "text": [
            "1156484   0.378   0.981   0.546   0.329   0.378    0.390\n"
          ],
          "name": "stdout"
        }
      ]
    },
    {
      "cell_type": "code",
      "metadata": {
        "id": "4L37gC0-K1gN",
        "colab_type": "code",
        "colab": {
          "base_uri": "https://localhost:8080/",
          "height": 354
        },
        "outputId": "0630ca9a-3756-420d-bb16-054bb60b307b"
      },
      "source": [
        "k_means(n_clust=6, data_frame=Data, true_labels=Labels)"
      ],
      "execution_count": 24,
      "outputs": [
        {
          "output_type": "display_data",
          "data": {
            "text/html": [
              "<div>\n",
              "<style scoped>\n",
              "    .dataframe tbody tr th:only-of-type {\n",
              "        vertical-align: middle;\n",
              "    }\n",
              "\n",
              "    .dataframe tbody tr th {\n",
              "        vertical-align: top;\n",
              "    }\n",
              "\n",
              "    .dataframe thead th {\n",
              "        text-align: right;\n",
              "    }\n",
              "</style>\n",
              "<table border=\"1\" class=\"dataframe\">\n",
              "  <thead>\n",
              "    <tr style=\"text-align: right;\">\n",
              "      <th>orig_label</th>\n",
              "      <th>LAYING</th>\n",
              "      <th>SITTING</th>\n",
              "      <th>STANDING</th>\n",
              "      <th>WALKING</th>\n",
              "      <th>WALKING_DOWNSTAIRS</th>\n",
              "      <th>WALKING_UPSTAIRS</th>\n",
              "    </tr>\n",
              "    <tr>\n",
              "      <th>clust_label</th>\n",
              "      <th></th>\n",
              "      <th></th>\n",
              "      <th></th>\n",
              "      <th></th>\n",
              "      <th></th>\n",
              "      <th></th>\n",
              "    </tr>\n",
              "  </thead>\n",
              "  <tbody>\n",
              "    <tr>\n",
              "      <th>0</th>\n",
              "      <td>554</td>\n",
              "      <td>21</td>\n",
              "      <td>0</td>\n",
              "      <td>0</td>\n",
              "      <td>0</td>\n",
              "      <td>0</td>\n",
              "    </tr>\n",
              "    <tr>\n",
              "      <th>1</th>\n",
              "      <td>0</td>\n",
              "      <td>0</td>\n",
              "      <td>0</td>\n",
              "      <td>248</td>\n",
              "      <td>311</td>\n",
              "      <td>97</td>\n",
              "    </tr>\n",
              "    <tr>\n",
              "      <th>2</th>\n",
              "      <td>1</td>\n",
              "      <td>0</td>\n",
              "      <td>0</td>\n",
              "      <td>329</td>\n",
              "      <td>107</td>\n",
              "      <td>438</td>\n",
              "    </tr>\n",
              "    <tr>\n",
              "      <th>3</th>\n",
              "      <td>20</td>\n",
              "      <td>445</td>\n",
              "      <td>479</td>\n",
              "      <td>0</td>\n",
              "      <td>0</td>\n",
              "      <td>0</td>\n",
              "    </tr>\n",
              "    <tr>\n",
              "      <th>4</th>\n",
              "      <td>0</td>\n",
              "      <td>0</td>\n",
              "      <td>0</td>\n",
              "      <td>26</td>\n",
              "      <td>75</td>\n",
              "      <td>4</td>\n",
              "    </tr>\n",
              "    <tr>\n",
              "      <th>5</th>\n",
              "      <td>106</td>\n",
              "      <td>157</td>\n",
              "      <td>189</td>\n",
              "      <td>0</td>\n",
              "      <td>0</td>\n",
              "      <td>2</td>\n",
              "    </tr>\n",
              "  </tbody>\n",
              "</table>\n",
              "</div>"
            ],
            "text/plain": [
              "orig_label   LAYING  SITTING  ...  WALKING_DOWNSTAIRS  WALKING_UPSTAIRS\n",
              "clust_label                   ...                                      \n",
              "0               554       21  ...                   0                 0\n",
              "1                 0        0  ...                 311                97\n",
              "2                 1        0  ...                 107               438\n",
              "3                20      445  ...                   0                 0\n",
              "4                 0        0  ...                  75                 4\n",
              "5               106      157  ...                   0                 2\n",
              "\n",
              "[6 rows x 6 columns]"
            ]
          },
          "metadata": {
            "tags": []
          }
        },
        {
          "output_type": "stream",
          "text": [
            "inertia  homo    compl   v-meas   ARI     AMI     silhouette\n"
          ],
          "name": "stdout"
        },
        {
          "output_type": "stream",
          "text": [
            "/usr/local/lib/python3.6/dist-packages/sklearn/metrics/cluster/supervised.py:746: FutureWarning: The behavior of AMI will change in version 0.22. To match the behavior of 'v_measure_score', AMI will use average_method='arithmetic' by default.\n",
            "  FutureWarning)\n"
          ],
          "name": "stderr"
        },
        {
          "output_type": "stream",
          "text": [
            "895967   0.548   0.589   0.568   0.429   0.547    0.113\n"
          ],
          "name": "stdout"
        }
      ]
    },
    {
      "cell_type": "code",
      "metadata": {
        "id": "vIKFb1H9K7cj",
        "colab_type": "code",
        "colab": {}
      },
      "source": [
        "#change labels into binary: 0 - not moving, 1 - moving\n",
        "Labels_binary = Labels.copy()\n",
        "for i in range(len(Labels_binary)):\n",
        "    if (Labels_binary[i] == 'STANDING' or Labels_binary[i] == 'SITTING' or Labels_binary[i] == 'LAYING'):\n",
        "        Labels_binary[i] = 0\n",
        "    else:\n",
        "        Labels_binary[i] = 1\n",
        "Labels_binary = np.array(Labels_binary.astype(int))"
      ],
      "execution_count": 0,
      "outputs": []
    },
    {
      "cell_type": "code",
      "metadata": {
        "id": "W31lO9EbLFQj",
        "colab_type": "code",
        "colab": {
          "base_uri": "https://localhost:8080/",
          "height": 230
        },
        "outputId": "6b7922c8-05ff-4401-9116-74772d0b1d43"
      },
      "source": [
        "k_means(n_clust=2, data_frame=Data, true_labels=Labels_binary)"
      ],
      "execution_count": 26,
      "outputs": [
        {
          "output_type": "display_data",
          "data": {
            "text/html": [
              "<div>\n",
              "<style scoped>\n",
              "    .dataframe tbody tr th:only-of-type {\n",
              "        vertical-align: middle;\n",
              "    }\n",
              "\n",
              "    .dataframe tbody tr th {\n",
              "        vertical-align: top;\n",
              "    }\n",
              "\n",
              "    .dataframe thead th {\n",
              "        text-align: right;\n",
              "    }\n",
              "</style>\n",
              "<table border=\"1\" class=\"dataframe\">\n",
              "  <thead>\n",
              "    <tr style=\"text-align: right;\">\n",
              "      <th>orig_label</th>\n",
              "      <th>0</th>\n",
              "      <th>1</th>\n",
              "    </tr>\n",
              "    <tr>\n",
              "      <th>clust_label</th>\n",
              "      <th></th>\n",
              "      <th></th>\n",
              "    </tr>\n",
              "  </thead>\n",
              "  <tbody>\n",
              "    <tr>\n",
              "      <th>0</th>\n",
              "      <td>1970</td>\n",
              "      <td>6</td>\n",
              "    </tr>\n",
              "    <tr>\n",
              "      <th>1</th>\n",
              "      <td>2</td>\n",
              "      <td>1631</td>\n",
              "    </tr>\n",
              "  </tbody>\n",
              "</table>\n",
              "</div>"
            ],
            "text/plain": [
              "orig_label      0     1\n",
              "clust_label            \n",
              "0            1970     6\n",
              "1               2  1631"
            ]
          },
          "metadata": {
            "tags": []
          }
        },
        {
          "output_type": "stream",
          "text": [
            "inertia  homo    compl   v-meas   ARI     AMI     silhouette\n"
          ],
          "name": "stdout"
        },
        {
          "output_type": "stream",
          "text": [
            "/usr/local/lib/python3.6/dist-packages/sklearn/metrics/cluster/supervised.py:746: FutureWarning: The behavior of AMI will change in version 0.22. To match the behavior of 'v_measure_score', AMI will use average_method='arithmetic' by default.\n",
            "  FutureWarning)\n"
          ],
          "name": "stderr"
        },
        {
          "output_type": "stream",
          "text": [
            "1156484   0.977   0.978   0.978   0.991   0.977    0.390\n"
          ],
          "name": "stdout"
        }
      ]
    },
    {
      "cell_type": "markdown",
      "metadata": {
        "id": "L3lgoCw2LRBh",
        "colab_type": "text"
      },
      "source": [
        "Principal Component Analysis is a dimension-reduction tool that can be used to reduce a large set of variables to a small set that still contains most of the information in the large set.\n",
        "\n",
        "2-cluster algorithm seems to fbe able to find patterns for moving/not-moving labels perfectly so far, but let's see if it can still be improved by dimension reduction\n",
        "\n"
      ]
    },
    {
      "cell_type": "code",
      "metadata": {
        "id": "UZsgWtoFLY6r",
        "colab_type": "code",
        "colab": {
          "base_uri": "https://localhost:8080/",
          "height": 279
        },
        "outputId": "f452805d-fe2d-457d-9dfc-59d0ac655b19"
      },
      "source": [
        "#check for optimal number of features\n",
        "pca = PCA(random_state=123)\n",
        "pca.fit(Data)\n",
        "features = range(pca.n_components_)\n",
        "\n",
        "plt.figure(figsize=(8,4))\n",
        "plt.bar(features[:15], pca.explained_variance_[:15], color='lightskyblue')\n",
        "plt.xlabel('PCA feature')\n",
        "plt.ylabel('Variance')\n",
        "plt.xticks(features[:15])\n",
        "plt.show()"
      ],
      "execution_count": 27,
      "outputs": [
        {
          "output_type": "display_data",
          "data": {
            "image/png": "[encoded data removed]",
            "text/plain": [
              "<Figure size 576x288 with 1 Axes>"
            ]
          },
          "metadata": {
            "tags": []
          }
        }
      ]
    },
    {
      "cell_type": "markdown",
      "metadata": {
        "id": "ak-cPOZELjKs",
        "colab_type": "text"
      },
      "source": [
        "1 feature seems to be best fit for our algorithm."
      ]
    },
    {
      "cell_type": "code",
      "metadata": {
        "id": "Ypx_zqhXLlO3",
        "colab_type": "code",
        "colab": {}
      },
      "source": [
        "def pca_transform(n_comp):\n",
        "    pca = PCA(n_components=n_comp, random_state=123)\n",
        "    global Data_reduced\n",
        "    Data_reduced = pca.fit_transform(Data)\n",
        "    print('Shape of the new Data df: ' + str(Data_reduced.shape))"
      ],
      "execution_count": 0,
      "outputs": []
    },
    {
      "cell_type": "code",
      "metadata": {
        "id": "whz29VGNMAAl",
        "colab_type": "code",
        "colab": {}
      },
      "source": [
        "# pca_transform(n_comp=3)\n",
        "# k_means(n_clust=2, data_frame=Data_reduced, true_labels=Labels)"
      ],
      "execution_count": 0,
      "outputs": []
    },
    {
      "cell_type": "code",
      "metadata": {
        "id": "gooRv0PfMH1_",
        "colab_type": "code",
        "colab": {
          "base_uri": "https://localhost:8080/",
          "height": 247
        },
        "outputId": "00ee0d8d-ea2d-4891-e37b-11b995b78d9d"
      },
      "source": [
        "pca_transform(n_comp=1)\n",
        "k_means(n_clust=2, data_frame=Data_reduced, true_labels=Labels_binary)"
      ],
      "execution_count": 31,
      "outputs": [
        {
          "output_type": "stream",
          "text": [
            "Shape of the new Data df: (3609, 1)\n"
          ],
          "name": "stdout"
        },
        {
          "output_type": "display_data",
          "data": {
            "text/html": [
              "<div>\n",
              "<style scoped>\n",
              "    .dataframe tbody tr th:only-of-type {\n",
              "        vertical-align: middle;\n",
              "    }\n",
              "\n",
              "    .dataframe tbody tr th {\n",
              "        vertical-align: top;\n",
              "    }\n",
              "\n",
              "    .dataframe thead th {\n",
              "        text-align: right;\n",
              "    }\n",
              "</style>\n",
              "<table border=\"1\" class=\"dataframe\">\n",
              "  <thead>\n",
              "    <tr style=\"text-align: right;\">\n",
              "      <th>orig_label</th>\n",
              "      <th>0</th>\n",
              "      <th>1</th>\n",
              "    </tr>\n",
              "    <tr>\n",
              "      <th>clust_label</th>\n",
              "      <th></th>\n",
              "      <th></th>\n",
              "    </tr>\n",
              "  </thead>\n",
              "  <tbody>\n",
              "    <tr>\n",
              "      <th>0</th>\n",
              "      <td>1971</td>\n",
              "      <td>8</td>\n",
              "    </tr>\n",
              "    <tr>\n",
              "      <th>1</th>\n",
              "      <td>1</td>\n",
              "      <td>1629</td>\n",
              "    </tr>\n",
              "  </tbody>\n",
              "</table>\n",
              "</div>"
            ],
            "text/plain": [
              "orig_label      0     1\n",
              "clust_label            \n",
              "0            1971     8\n",
              "1               1  1629"
            ]
          },
          "metadata": {
            "tags": []
          }
        },
        {
          "output_type": "stream",
          "text": [
            "inertia  homo    compl   v-meas   ARI     AMI     silhouette\n"
          ],
          "name": "stdout"
        },
        {
          "output_type": "stream",
          "text": [
            "/usr/local/lib/python3.6/dist-packages/sklearn/metrics/cluster/supervised.py:746: FutureWarning: The behavior of AMI will change in version 0.22. To match the behavior of 'v_measure_score', AMI will use average_method='arithmetic' by default.\n",
            "  FutureWarning)\n"
          ],
          "name": "stderr"
        },
        {
          "output_type": "stream",
          "text": [
            "168716   0.976   0.976   0.976   0.990   0.976    0.794\n"
          ],
          "name": "stdout"
        }
      ]
    },
    {
      "cell_type": "code",
      "metadata": {
        "id": "MSA3uLJKMOuE",
        "colab_type": "code",
        "colab": {
          "base_uri": "https://localhost:8080/",
          "height": 247
        },
        "outputId": "5b30a3d1-967c-4105-a0f9-f1d1068acd60"
      },
      "source": [
        "pca_transform(n_comp=2)\n",
        "k_means(n_clust=2, data_frame=Data_reduced, true_labels=Labels_binary)"
      ],
      "execution_count": 32,
      "outputs": [
        {
          "output_type": "stream",
          "text": [
            "Shape of the new Data df: (3609, 2)\n"
          ],
          "name": "stdout"
        },
        {
          "output_type": "display_data",
          "data": {
            "text/html": [
              "<div>\n",
              "<style scoped>\n",
              "    .dataframe tbody tr th:only-of-type {\n",
              "        vertical-align: middle;\n",
              "    }\n",
              "\n",
              "    .dataframe tbody tr th {\n",
              "        vertical-align: top;\n",
              "    }\n",
              "\n",
              "    .dataframe thead th {\n",
              "        text-align: right;\n",
              "    }\n",
              "</style>\n",
              "<table border=\"1\" class=\"dataframe\">\n",
              "  <thead>\n",
              "    <tr style=\"text-align: right;\">\n",
              "      <th>orig_label</th>\n",
              "      <th>0</th>\n",
              "      <th>1</th>\n",
              "    </tr>\n",
              "    <tr>\n",
              "      <th>clust_label</th>\n",
              "      <th></th>\n",
              "      <th></th>\n",
              "    </tr>\n",
              "  </thead>\n",
              "  <tbody>\n",
              "    <tr>\n",
              "      <th>0</th>\n",
              "      <td>1969</td>\n",
              "      <td>6</td>\n",
              "    </tr>\n",
              "    <tr>\n",
              "      <th>1</th>\n",
              "      <td>3</td>\n",
              "      <td>1631</td>\n",
              "    </tr>\n",
              "  </tbody>\n",
              "</table>\n",
              "</div>"
            ],
            "text/plain": [
              "orig_label      0     1\n",
              "clust_label            \n",
              "0            1969     6\n",
              "1               3  1631"
            ]
          },
          "metadata": {
            "tags": []
          }
        },
        {
          "output_type": "stream",
          "text": [
            "inertia  homo    compl   v-meas   ARI     AMI     silhouette\n"
          ],
          "name": "stdout"
        },
        {
          "output_type": "stream",
          "text": [
            "/usr/local/lib/python3.6/dist-packages/sklearn/metrics/cluster/supervised.py:746: FutureWarning: The behavior of AMI will change in version 0.22. To match the behavior of 'v_measure_score', AMI will use average_method='arithmetic' by default.\n",
            "  FutureWarning)\n"
          ],
          "name": "stderr"
        },
        {
          "output_type": "stream",
          "text": [
            "295753   0.975   0.975   0.975   0.990   0.975    0.694\n"
          ],
          "name": "stdout"
        }
      ]
    },
    {
      "cell_type": "code",
      "metadata": {
        "id": "3b04vxUqMaUH",
        "colab_type": "code",
        "colab": {}
      },
      "source": [
        ""
      ],
      "execution_count": 0,
      "outputs": []
    },
    {
      "cell_type": "markdown",
      "metadata": {
        "id": "tlTq24yQLhvZ",
        "colab_type": "text"
      },
      "source": [
        ""
      ]
    }
  ]
}