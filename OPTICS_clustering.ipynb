{
  "nbformat": 4,
  "nbformat_minor": 0,
  "metadata": {
    "colab": {
      "name": "OPTICS_clustering.ipynb",
      "provenance": [],
      "authorship_tag": "ABX9TyPqB6SwCHhg1KovRLxNw+VW",
      "include_colab_link": true
    },
    "kernelspec": {
      "name": "python3",
      "display_name": "Python 3"
    }
  },
  "cells": [
    {
      "cell_type": "markdown",
      "metadata": {
        "id": "view-in-github",
        "colab_type": "text"
      },
      "source": [
        "<a href=\"https://colab.research.google.com/github/shreejitp/Clustering/blob/master/OPTICS_clustering.ipynb\" target=\"_parent\"><img src=\"https://colab.research.google.com/assets/colab-badge.svg\" alt=\"Open In Colab\"/></a>"
      ]
    },
    {
      "cell_type": "code",
      "metadata": {
        "id": "ldbTh3lqQfwY",
        "colab_type": "code",
        "colab": {}
      },
      "source": [
        "from sklearn.cluster import OPTICS, cluster_optics_dbscan\n",
        "import matplotlib.gridspec as gridspec\n",
        "import matplotlib.pyplot as plt\n",
        "import numpy as np"
      ],
      "execution_count": null,
      "outputs": []
    },
    {
      "cell_type": "markdown",
      "metadata": {
        "id": "_Tb4KtWETf30",
        "colab_type": "text"
      },
      "source": [
        "**OPTICS**- Ordering Points To Identify Clustering Structure\n",
        "\n",
        "https://scikit-learn.org/stable/modules/clustering.html#optics\n",
        "\n",
        "https://medium.com/@darkprogrammerpb/optics-clustering-algorithm-from-scratch-8d66960e238"
      ]
    },
    {
      "cell_type": "markdown",
      "metadata": {
        "id": "c7nKSDdq8OhZ",
        "colab_type": "text"
      },
      "source": [
        "**Overview of DBSCAN** "
      ]
    },
    {
      "cell_type": "markdown",
      "metadata": {
        "id": "jYPZhB-x66W1",
        "colab_type": "text"
      },
      "source": [
        "Prerequisites for Optics is DBSCAN\n",
        "\n",
        "The central component of DBSCAN is the concept of core samples. A cluster is therefore a set of core samples, each close to each other, and a set of non core samples that are close to a core sample.\n",
        "\n",
        "There are two parameters to the algorithm- **min_samples** and **eps** , which define formally what we say dense. Higher min_samples or lower eps indicate higher density necessary to form a cluster.\n",
        "\n",
        "Core samples are samples that have min_samples within a distance eps. These other samples are called neighbors of the core sample. This tells us that the core sample is in a dense area of the vector space.\n",
        "\n",
        "A cluster is a set of core samples that can be built by recursively taking a core sample, finding all of its neighbors that are core samples, finding all of their neighbors that are core samples, and so on. A cluster also has a set of non-core samples, which are samples that are neighbors of a core sample in the cluster but are not themselves core samples. Intuitively, these samples are on the fringes of a cluster\n",
        "\n",
        "Any core sample is part of a cluster, by definition. Any sample that is not a core sample, and is at least eps in distance from any core sample, is considered an outlier by the algorithm\n",
        "\n",
        "The DBSCAN algorithm is **deterministic**, always generating the same clusters when given the same data in the same order. However, the results can differ when data is provided in a different order\n"
      ]
    },
    {
      "cell_type": "markdown",
      "metadata": {
        "id": "xwxd4bn9C59E",
        "colab_type": "text"
      },
      "source": [
        "**Memory consumption for large sample sizes**\n",
        "\n",
        "DBSCAN uses ball trees and kd-trees to determine the neighborhood of the points. This implementation by default is not memory efficient. Some alternatives in such situations \n",
        "\n",
        "- Use OPTICS in conjunction with the extract_dbscan \n",
        "-The dataset can be compressed, either by removing exact duplicates if these occur in your data, or by using BIRCH\n",
        "\n"
      ]
    },
    {
      "cell_type": "markdown",
      "metadata": {
        "id": "YtSFPx2XCv2O",
        "colab_type": "text"
      },
      "source": [
        "OPTICS \n",
        "\n"
      ]
    },
    {
      "cell_type": "code",
      "metadata": {
        "id": "qUzz0-IGSFSx",
        "colab_type": "code",
        "colab": {}
      },
      "source": [
        "# Generate sample data\n",
        "\n",
        "np.random.seed(0)\n",
        "n_points_per_cluster = 250  "
      ],
      "execution_count": null,
      "outputs": []
    },
    {
      "cell_type": "code",
      "metadata": {
        "id": "JyRSzF_TSNEx",
        "colab_type": "code",
        "colab": {}
      },
      "source": [
        "C1 = [-5, -2] + .8 * np.random.randn(n_points_per_cluster, 2)\n",
        "C2 = [4, -1] + .1 * np.random.randn(n_points_per_cluster, 2)\n",
        "C3 = [1, -2] + .2 * np.random.randn(n_points_per_cluster, 2)\n",
        "C4 = [-2, 3] + .3 * np.random.randn(n_points_per_cluster, 2)\n",
        "C5 = [3, -2] + 1.6 * np.random.randn(n_points_per_cluster, 2)\n",
        "C6 = [5, 6] + 2 * np.random.randn(n_points_per_cluster, 2)"
      ],
      "execution_count": null,
      "outputs": []
    },
    {
      "cell_type": "code",
      "metadata": {
        "id": "JQEAE9PnSgU0",
        "colab_type": "code",
        "colab": {
          "base_uri": "https://localhost:8080/",
          "height": 34
        },
        "outputId": "23fed5e2-6219-49f1-f02d-c1e2a00c293f"
      },
      "source": [
        "C1.shape # 250 X 2 - 250 instances with 2 entries "
      ],
      "execution_count": null,
      "outputs": [
        {
          "output_type": "execute_result",
          "data": {
            "text/plain": [
              "(250, 2)"
            ]
          },
          "metadata": {
            "tags": []
          },
          "execution_count": 98
        }
      ]
    },
    {
      "cell_type": "code",
      "metadata": {
        "id": "ImDNWqmsSipz",
        "colab_type": "code",
        "colab": {
          "base_uri": "https://localhost:8080/",
          "height": 34
        },
        "outputId": "83babddc-d0eb-4834-b815-0c3b385a5955"
      },
      "source": [
        "C1[0]"
      ],
      "execution_count": null,
      "outputs": [
        {
          "output_type": "execute_result",
          "data": {
            "text/plain": [
              "array([-3.58875812, -1.67987423])"
            ]
          },
          "metadata": {
            "tags": []
          },
          "execution_count": 99
        }
      ]
    },
    {
      "cell_type": "code",
      "metadata": {
        "id": "tIBUrzj4SvOL",
        "colab_type": "code",
        "colab": {}
      },
      "source": [
        "X = np.vstack((C1, C2, C3, C4, C5, C6))"
      ],
      "execution_count": null,
      "outputs": []
    },
    {
      "cell_type": "code",
      "metadata": {
        "id": "C5ZId1weTBV_",
        "colab_type": "code",
        "colab": {
          "base_uri": "https://localhost:8080/",
          "height": 34
        },
        "outputId": "00ae2c51-fd70-43d2-eead-5545a9c4a324"
      },
      "source": [
        "X.shape # 6 times 250 "
      ],
      "execution_count": null,
      "outputs": [
        {
          "output_type": "execute_result",
          "data": {
            "text/plain": [
              "(1500, 2)"
            ]
          },
          "metadata": {
            "tags": []
          },
          "execution_count": 101
        }
      ]
    },
    {
      "cell_type": "code",
      "metadata": {
        "id": "Rjdj24iXTHPA",
        "colab_type": "code",
        "colab": {
          "base_uri": "https://localhost:8080/",
          "height": 34
        },
        "outputId": "2a814296-d3d2-4d8e-92c5-40462dae5421"
      },
      "source": [
        "X[0] # same as C1[0] # Seems like X just combined C1 to C6"
      ],
      "execution_count": null,
      "outputs": [
        {
          "output_type": "execute_result",
          "data": {
            "text/plain": [
              "array([-3.58875812, -1.67987423])"
            ]
          },
          "metadata": {
            "tags": []
          },
          "execution_count": 102
        }
      ]
    },
    {
      "cell_type": "code",
      "metadata": {
        "id": "1xrTCqURTJ36",
        "colab_type": "code",
        "colab": {}
      },
      "source": [
        "clust = OPTICS(min_samples=50, xi=.05, min_cluster_size=.05) # 3 parameters taken by the algorithm "
      ],
      "execution_count": null,
      "outputs": []
    },
    {
      "cell_type": "code",
      "metadata": {
        "id": "M9Kfa8ZCTXHR",
        "colab_type": "code",
        "colab": {
          "base_uri": "https://localhost:8080/",
          "height": 85
        },
        "outputId": "c4021a48-2c3b-4578-fb22-bb7c41c01fba"
      },
      "source": [
        "# Run the fit\n",
        "clust.fit(X)"
      ],
      "execution_count": null,
      "outputs": [
        {
          "output_type": "execute_result",
          "data": {
            "text/plain": [
              "OPTICS(algorithm='auto', cluster_method='xi', eps=None, leaf_size=30,\n",
              "       max_eps=inf, metric='minkowski', metric_params=None,\n",
              "       min_cluster_size=0.05, min_samples=50, n_jobs=None, p=2,\n",
              "       predecessor_correction=True, xi=0.05)"
            ]
          },
          "metadata": {
            "tags": []
          },
          "execution_count": 104
        }
      ]
    },
    {
      "cell_type": "code",
      "metadata": {
        "id": "T_6Y7oWhTXJj",
        "colab_type": "code",
        "colab": {}
      },
      "source": [
        "labels_050 = cluster_optics_dbscan(reachability=clust.reachability_,\n",
        "                                   core_distances=clust.core_distances_,\n",
        "                                   ordering=clust.ordering_, eps=0.5)"
      ],
      "execution_count": null,
      "outputs": []
    },
    {
      "cell_type": "code",
      "metadata": {
        "id": "bRMPVtywTXL8",
        "colab_type": "code",
        "colab": {}
      },
      "source": [
        "labels_200 = cluster_optics_dbscan(reachability=clust.reachability_,\n",
        "                                   core_distances=clust.core_distances_,\n",
        "                                   ordering=clust.ordering_, eps=2)"
      ],
      "execution_count": null,
      "outputs": []
    },
    {
      "cell_type": "code",
      "metadata": {
        "id": "NPgkSr1STXOT",
        "colab_type": "code",
        "colab": {}
      },
      "source": [
        "space = np.arange(len(X))"
      ],
      "execution_count": null,
      "outputs": []
    },
    {
      "cell_type": "code",
      "metadata": {
        "id": "wrmgBy36TXQs",
        "colab_type": "code",
        "colab": {
          "base_uri": "https://localhost:8080/",
          "height": 34
        },
        "outputId": "d268b581-8cc9-4c9c-d0a8-02c3c94f9d41"
      },
      "source": [
        "space[1499] # Space is an array from 0 to 1499 "
      ],
      "execution_count": null,
      "outputs": [
        {
          "output_type": "execute_result",
          "data": {
            "text/plain": [
              "1499"
            ]
          },
          "metadata": {
            "tags": []
          },
          "execution_count": 108
        }
      ]
    },
    {
      "cell_type": "code",
      "metadata": {
        "id": "PDh5rgcfTXS6",
        "colab_type": "code",
        "colab": {}
      },
      "source": [
        "reachability = clust.reachability_[clust.ordering_]"
      ],
      "execution_count": null,
      "outputs": []
    },
    {
      "cell_type": "code",
      "metadata": {
        "id": "LeMzUeWlUnoo",
        "colab_type": "code",
        "colab": {
          "base_uri": "https://localhost:8080/",
          "height": 51
        },
        "outputId": "68c452c0-3e8c-43ca-9e28-8a8b071941a2"
      },
      "source": [
        "reachability"
      ],
      "execution_count": null,
      "outputs": [
        {
          "output_type": "execute_result",
          "data": {
            "text/plain": [
              "array([       inf, 1.02299291, 0.72157342, ..., 0.37733713, 0.38277529,\n",
              "       0.46184072])"
            ]
          },
          "metadata": {
            "tags": []
          },
          "execution_count": 110
        }
      ]
    },
    {
      "cell_type": "code",
      "metadata": {
        "id": "8PMsaEsYUtW5",
        "colab_type": "code",
        "colab": {}
      },
      "source": [
        "labels = clust.labels_[clust.ordering_]"
      ],
      "execution_count": null,
      "outputs": []
    },
    {
      "cell_type": "code",
      "metadata": {
        "id": "N8pDBneDUzDo",
        "colab_type": "code",
        "colab": {
          "base_uri": "https://localhost:8080/",
          "height": 34
        },
        "outputId": "e5b8526c-3685-40e9-a806-c9fc23080ef6"
      },
      "source": [
        "labels[1499] # Looks like Labels are are going from 0 to 4 "
      ],
      "execution_count": null,
      "outputs": [
        {
          "output_type": "execute_result",
          "data": {
            "text/plain": [
              "4"
            ]
          },
          "metadata": {
            "tags": []
          },
          "execution_count": 112
        }
      ]
    },
    {
      "cell_type": "code",
      "metadata": {
        "id": "ofXyRePTcYEG",
        "colab_type": "code",
        "colab": {}
      },
      "source": [
        "import matplotlib.pyplot as plt\n",
        "%matplotlib inline"
      ],
      "execution_count": null,
      "outputs": []
    },
    {
      "cell_type": "code",
      "metadata": {
        "id": "SX_eL-9hU0Dw",
        "colab_type": "code",
        "colab": {}
      },
      "source": [
        "plt.figure(figsize=(10, 7))\n",
        "G = gridspec.GridSpec(2, 3)\n",
        "ax1 = plt.subplot(G[0, :])\n",
        "ax2 = plt.subplot(G[1, 0])\n",
        "ax3 = plt.subplot(G[1, 1])\n",
        "ax4 = plt.subplot(G[1, 2])"
      ],
      "execution_count": null,
      "outputs": []
    },
    {
      "cell_type": "code",
      "metadata": {
        "id": "mMYG6mE_VYen",
        "colab_type": "code",
        "colab": {}
      },
      "source": [
        "# Reachability plot\n",
        "colors = ['g.', 'r.', 'b.', 'y.', 'c.']\n",
        "for klass, color in zip(range(0, 5), colors):\n",
        "    Xk = space[labels == klass]\n",
        "    Rk = reachability[labels == klass]\n",
        "    ax1.plot(Xk, Rk, color, alpha=0.3)"
      ],
      "execution_count": null,
      "outputs": []
    },
    {
      "cell_type": "code",
      "metadata": {
        "id": "D799mUQoZYSz",
        "colab_type": "code",
        "colab": {
          "base_uri": "https://localhost:8080/",
          "height": 34
        },
        "outputId": "83b59cac-4203-4682-9100-8ba04cec0f83"
      },
      "source": [
        "ax1.plot(space[labels == -1], reachability[labels == -1], 'k.', alpha=0.3)\n",
        "ax1.plot(space, np.full_like(space, 2., dtype=float), 'k-', alpha=0.5)\n",
        "ax1.plot(space, np.full_like(space, 0.5, dtype=float), 'k-.', alpha=0.5)\n",
        "ax1.set_ylabel('Reachability (epsilon distance)')\n",
        "ax1.set_title('Reachability Plot')"
      ],
      "execution_count": null,
      "outputs": [
        {
          "output_type": "execute_result",
          "data": {
            "text/plain": [
              "Text(0.5, 1.0, 'Reachability Plot')"
            ]
          },
          "metadata": {
            "tags": []
          },
          "execution_count": 147
        }
      ]
    },
    {
      "cell_type": "code",
      "metadata": {
        "id": "GkDTa685Zpj-",
        "colab_type": "code",
        "colab": {
          "base_uri": "https://localhost:8080/",
          "height": 34
        },
        "outputId": "9cce7a5a-b653-43e8-f91f-9d064ec68659"
      },
      "source": [
        "type(ax1)"
      ],
      "execution_count": null,
      "outputs": [
        {
          "output_type": "execute_result",
          "data": {
            "text/plain": [
              "matplotlib.axes._subplots.AxesSubplot"
            ]
          },
          "metadata": {
            "tags": []
          },
          "execution_count": 136
        }
      ]
    },
    {
      "cell_type": "code",
      "metadata": {
        "id": "UTgdyasBajSc",
        "colab_type": "code",
        "colab": {
          "base_uri": "https://localhost:8080/",
          "height": 34
        },
        "outputId": "6be3b93d-6e06-4eec-ca2d-8f2c92799629"
      },
      "source": [
        "ax1"
      ],
      "execution_count": null,
      "outputs": [
        {
          "output_type": "execute_result",
          "data": {
            "text/plain": [
              "<matplotlib.axes._subplots.AxesSubplot at 0x7f2b4ad37780>"
            ]
          },
          "metadata": {
            "tags": []
          },
          "execution_count": 137
        }
      ]
    },
    {
      "cell_type": "code",
      "metadata": {
        "id": "usOs7_PJVhOw",
        "colab_type": "code",
        "colab": {
          "base_uri": "https://localhost:8080/",
          "height": 34
        },
        "outputId": "743ec6ae-3e51-4ca5-f031-a6ee85e76f1e"
      },
      "source": [
        "\n",
        "# OPTICS\n",
        "colors = ['g.', 'r.', 'b.', 'y.', 'c.']\n",
        "for klass, color in zip(range(0, 5), colors):\n",
        "    Xk = X[clust.labels_ == klass]\n",
        "    ax2.plot(Xk[:, 0], Xk[:, 1], color, alpha=0.3)\n",
        "ax2.plot(X[clust.labels_ == -1, 0], X[clust.labels_ == -1, 1], 'k+', alpha=0.1)\n",
        "ax2.set_title('Automatic Clustering\\nOPTICS')"
      ],
      "execution_count": null,
      "outputs": [
        {
          "output_type": "execute_result",
          "data": {
            "text/plain": [
              "Text(0.5, 1.0, 'Automatic Clustering\\nOPTICS')"
            ]
          },
          "metadata": {
            "tags": []
          },
          "execution_count": 148
        }
      ]
    },
    {
      "cell_type": "code",
      "metadata": {
        "id": "0sYHvK3aVkuq",
        "colab_type": "code",
        "colab": {
          "base_uri": "https://localhost:8080/",
          "height": 34
        },
        "outputId": "5721d75a-fdab-4db9-c8b2-07185ccddac2"
      },
      "source": [
        "# DBSCAN at 0.5\n",
        "colors = ['g', 'greenyellow', 'olive', 'r', 'b', 'c']\n",
        "for klass, color in zip(range(0, 6), colors):\n",
        "    Xk = X[labels_050 == klass]\n",
        "    ax3.plot(Xk[:, 0], Xk[:, 1], color, alpha=0.3, marker='.')\n",
        "ax3.plot(X[labels_050 == -1, 0], X[labels_050 == -1, 1], 'k+', alpha=0.1)\n",
        "ax3.set_title('Clustering at 0.5 epsilon cut\\nDBSCAN')\n"
      ],
      "execution_count": null,
      "outputs": [
        {
          "output_type": "execute_result",
          "data": {
            "text/plain": [
              "Text(0.5, 1.0, 'Clustering at 0.5 epsilon cut\\nDBSCAN')"
            ]
          },
          "metadata": {
            "tags": []
          },
          "execution_count": 149
        }
      ]
    },
    {
      "cell_type": "code",
      "metadata": {
        "id": "4Q_KzAOlVmnN",
        "colab_type": "code",
        "colab": {
          "base_uri": "https://localhost:8080/",
          "height": 34
        },
        "outputId": "e5658df3-6b49-4103-dc0a-4c43b5aa8742"
      },
      "source": [
        "# DBSCAN at 2.\n",
        "colors = ['g.', 'm.', 'y.', 'c.']\n",
        "for klass, color in zip(range(0, 4), colors):\n",
        "    Xk = X[labels_200 == klass]\n",
        "    ax4.plot(Xk[:, 0], Xk[:, 1], color, alpha=0.3)\n",
        "ax4.plot(X[labels_200 == -1, 0], X[labels_200 == -1, 1], 'k+', alpha=0.1)\n",
        "ax4.set_title('Clustering at 2.0 epsilon cut\\nDBSCAN')"
      ],
      "execution_count": null,
      "outputs": [
        {
          "output_type": "execute_result",
          "data": {
            "text/plain": [
              "Text(0.5, 1.0, 'Clustering at 2.0 epsilon cut\\nDBSCAN')"
            ]
          },
          "metadata": {
            "tags": []
          },
          "execution_count": 150
        }
      ]
    },
    {
      "cell_type": "code",
      "metadata": {
        "id": "b26Cl_KSVoTN",
        "colab_type": "code",
        "colab": {
          "base_uri": "https://localhost:8080/",
          "height": 34
        },
        "outputId": "4906fe5e-4fb3-42e8-b20f-def5ce30c0f4"
      },
      "source": [
        "plt.tight_layout()"
      ],
      "execution_count": null,
      "outputs": [
        {
          "output_type": "display_data",
          "data": {
            "text/plain": [
              "<Figure size 432x288 with 0 Axes>"
            ]
          },
          "metadata": {
            "tags": []
          }
        }
      ]
    },
    {
      "cell_type": "markdown",
      "metadata": {
        "id": "uaYW-rJhddKT",
        "colab_type": "text"
      },
      "source": [
        "Running the code all at once "
      ]
    },
    {
      "cell_type": "code",
      "metadata": {
        "id": "ZhhINxuNbBvP",
        "colab_type": "code",
        "colab": {
          "base_uri": "https://localhost:8080/",
          "height": 513
        },
        "outputId": "8991f664-9ebe-43a5-d898-ce45f11057d6"
      },
      "source": [
        "from sklearn.cluster import OPTICS, cluster_optics_dbscan\n",
        "import matplotlib.gridspec as gridspec\n",
        "import matplotlib.pyplot as plt\n",
        "import numpy as np\n",
        "\n",
        "# Generate sample data\n",
        "\n",
        "np.random.seed(0)\n",
        "n_points_per_cluster = 250\n",
        "\n",
        "C1 = [-5, -2] + .8 * np.random.randn(n_points_per_cluster, 2)\n",
        "C2 = [4, -1] + .1 * np.random.randn(n_points_per_cluster, 2)\n",
        "C3 = [1, -2] + .2 * np.random.randn(n_points_per_cluster, 2)\n",
        "C4 = [-2, 3] + .3 * np.random.randn(n_points_per_cluster, 2)\n",
        "C5 = [3, -2] + 1.6 * np.random.randn(n_points_per_cluster, 2)\n",
        "C6 = [5, 6] + 2 * np.random.randn(n_points_per_cluster, 2)\n",
        "X = np.vstack((C1, C2, C3, C4, C5, C6))\n",
        "\n",
        "clust = OPTICS(min_samples=50, xi=.05, min_cluster_size=.05)\n",
        "\n",
        "# Run the fit\n",
        "clust.fit(X)\n",
        "\n",
        "labels_050 = cluster_optics_dbscan(reachability=clust.reachability_,\n",
        "                                   core_distances=clust.core_distances_,\n",
        "                                   ordering=clust.ordering_, eps=0.5)\n",
        "labels_200 = cluster_optics_dbscan(reachability=clust.reachability_,\n",
        "                                   core_distances=clust.core_distances_,\n",
        "                                   ordering=clust.ordering_, eps=2)\n",
        "\n",
        "space = np.arange(len(X))\n",
        "reachability = clust.reachability_[clust.ordering_]\n",
        "labels = clust.labels_[clust.ordering_]\n",
        "\n",
        "plt.figure(figsize=(10, 7))\n",
        "G = gridspec.GridSpec(2, 3)\n",
        "ax1 = plt.subplot(G[0, :])\n",
        "ax2 = plt.subplot(G[1, 0])\n",
        "ax3 = plt.subplot(G[1, 1])\n",
        "ax4 = plt.subplot(G[1, 2])\n",
        "\n",
        "# Reachability plot\n",
        "colors = ['g.', 'r.', 'b.', 'y.', 'c.']\n",
        "for klass, color in zip(range(0, 5), colors):\n",
        "    Xk = space[labels == klass]\n",
        "    Rk = reachability[labels == klass]\n",
        "    ax1.plot(Xk, Rk, color, alpha=0.3)\n",
        "ax1.plot(space[labels == -1], reachability[labels == -1], 'k.', alpha=0.3)\n",
        "ax1.plot(space, np.full_like(space, 2., dtype=float), 'k-', alpha=0.5)\n",
        "ax1.plot(space, np.full_like(space, 0.5, dtype=float), 'k-.', alpha=0.5)\n",
        "ax1.set_ylabel('Reachability (epsilon distance)')\n",
        "ax1.set_title('Reachability Plot')\n",
        "\n",
        "# OPTICS\n",
        "colors = ['g.', 'r.', 'b.', 'y.', 'c.']\n",
        "for klass, color in zip(range(0, 5), colors):\n",
        "    Xk = X[clust.labels_ == klass]\n",
        "    ax2.plot(Xk[:, 0], Xk[:, 1], color, alpha=0.3)\n",
        "ax2.plot(X[clust.labels_ == -1, 0], X[clust.labels_ == -1, 1], 'k+', alpha=0.1)\n",
        "ax2.set_title('Automatic Clustering\\nOPTICS')\n",
        "\n",
        "# DBSCAN at 0.5\n",
        "colors = ['g', 'greenyellow', 'olive', 'r', 'b', 'c']\n",
        "for klass, color in zip(range(0, 6), colors):\n",
        "    Xk = X[labels_050 == klass]\n",
        "    ax3.plot(Xk[:, 0], Xk[:, 1], color, alpha=0.3, marker='.')\n",
        "ax3.plot(X[labels_050 == -1, 0], X[labels_050 == -1, 1], 'k+', alpha=0.1)\n",
        "ax3.set_title('Clustering at 0.5 epsilon cut\\nDBSCAN')\n",
        "\n",
        "# DBSCAN at 2.\n",
        "colors = ['g.', 'm.', 'y.', 'c.']\n",
        "for klass, color in zip(range(0, 4), colors):\n",
        "    Xk = X[labels_200 == klass]\n",
        "    ax4.plot(Xk[:, 0], Xk[:, 1], color, alpha=0.3)\n",
        "ax4.plot(X[labels_200 == -1, 0], X[labels_200 == -1, 1], 'k+', alpha=0.1)\n",
        "ax4.set_title('Clustering at 2.0 epsilon cut\\nDBSCAN')\n",
        "\n",
        "plt.tight_layout()\n",
        "plt.show()\n"
      ],
      "execution_count": null,
      "outputs": [
        {
          "output_type": "display_data",
          "data": {
            "image/png": "[encoded data removed]",
            "text/plain": [
              "<Figure size 720x504 with 4 Axes>"
            ]
          },
          "metadata": {
            "tags": [],
            "needs_background": "light"
          }
        }
      ]
    },
    {
      "cell_type": "markdown",
      "metadata": {
        "id": "RRBWj9-BmghQ",
        "colab_type": "text"
      },
      "source": [
        "Real World Example - Mall Customer Data\n",
        "References- \n",
        "\n",
        "https://www.kaggle.com/vjchoudhary7/customer-segmentation-tutorial-in-python?select=Mall_Customers.csv\n",
        "\n",
        "https://www.geeksforgeeks.org/ml-optics-clustering-explanation/\n",
        "\n",
        "https://www.geeksforgeeks.org/ml-optics-clustering-implementing-using-sklearn/?ref=rp\n"
      ]
    },
    {
      "cell_type": "code",
      "metadata": {
        "id": "fvx5TtkHdPLq",
        "colab_type": "code",
        "colab": {}
      },
      "source": [
        "import numpy as np \n",
        "import pandas as pd \n",
        "import matplotlib.pyplot as plt \n",
        "from matplotlib import gridspec \n",
        "from sklearn.cluster import OPTICS, cluster_optics_dbscan \n",
        "from sklearn.preprocessing import normalize, StandardScaler"
      ],
      "execution_count": null,
      "outputs": []
    },
    {
      "cell_type": "code",
      "metadata": {
        "id": "NoFoqg6mfkTj",
        "colab_type": "code",
        "colab": {}
      },
      "source": [
        "X = pd.read_csv('/content/Mall_Customers.csv') "
      ],
      "execution_count": null,
      "outputs": []
    },
    {
      "cell_type": "code",
      "metadata": {
        "id": "XTa7zJrjgA55",
        "colab_type": "code",
        "colab": {
          "base_uri": "https://localhost:8080/",
          "height": 204
        },
        "outputId": "18e4d5ff-5880-4d3f-d507-3ac076909849"
      },
      "source": [
        "X.head(5)"
      ],
      "execution_count": null,
      "outputs": [
        {
          "output_type": "execute_result",
          "data": {
            "text/html": [
              "<div>\n",
              "<style scoped>\n",
              "    .dataframe tbody tr th:only-of-type {\n",
              "        vertical-align: middle;\n",
              "    }\n",
              "\n",
              "    .dataframe tbody tr th {\n",
              "        vertical-align: top;\n",
              "    }\n",
              "\n",
              "    .dataframe thead th {\n",
              "        text-align: right;\n",
              "    }\n",
              "</style>\n",
              "<table border=\"1\" class=\"dataframe\">\n",
              "  <thead>\n",
              "    <tr style=\"text-align: right;\">\n",
              "      <th></th>\n",
              "      <th>CustomerID</th>\n",
              "      <th>Gender</th>\n",
              "      <th>Age</th>\n",
              "      <th>Annual Income (k$)</th>\n",
              "      <th>Spending Score (1-100)</th>\n",
              "    </tr>\n",
              "  </thead>\n",
              "  <tbody>\n",
              "    <tr>\n",
              "      <th>0</th>\n",
              "      <td>1</td>\n",
              "      <td>Male</td>\n",
              "      <td>19</td>\n",
              "      <td>15</td>\n",
              "      <td>39</td>\n",
              "    </tr>\n",
              "    <tr>\n",
              "      <th>1</th>\n",
              "      <td>2</td>\n",
              "      <td>Male</td>\n",
              "      <td>21</td>\n",
              "      <td>15</td>\n",
              "      <td>81</td>\n",
              "    </tr>\n",
              "    <tr>\n",
              "      <th>2</th>\n",
              "      <td>3</td>\n",
              "      <td>Female</td>\n",
              "      <td>20</td>\n",
              "      <td>16</td>\n",
              "      <td>6</td>\n",
              "    </tr>\n",
              "    <tr>\n",
              "      <th>3</th>\n",
              "      <td>4</td>\n",
              "      <td>Female</td>\n",
              "      <td>23</td>\n",
              "      <td>16</td>\n",
              "      <td>77</td>\n",
              "    </tr>\n",
              "    <tr>\n",
              "      <th>4</th>\n",
              "      <td>5</td>\n",
              "      <td>Female</td>\n",
              "      <td>31</td>\n",
              "      <td>17</td>\n",
              "      <td>40</td>\n",
              "    </tr>\n",
              "  </tbody>\n",
              "</table>\n",
              "</div>"
            ],
            "text/plain": [
              "   CustomerID  Gender  Age  Annual Income (k$)  Spending Score (1-100)\n",
              "0           1    Male   19                  15                      39\n",
              "1           2    Male   21                  15                      81\n",
              "2           3  Female   20                  16                       6\n",
              "3           4  Female   23                  16                      77\n",
              "4           5  Female   31                  17                      40"
            ]
          },
          "metadata": {
            "tags": []
          },
          "execution_count": 165
        }
      ]
    },
    {
      "cell_type": "code",
      "metadata": {
        "id": "4v-1INa8f4GN",
        "colab_type": "code",
        "colab": {}
      },
      "source": [
        "#Dropping irrelevant columns \n",
        "drop_features = ['CustomerID', 'Gender'] \n",
        "X = X.drop(drop_features, axis = 1) "
      ],
      "execution_count": null,
      "outputs": []
    },
    {
      "cell_type": "code",
      "metadata": {
        "id": "Y6eGoejif9Y3",
        "colab_type": "code",
        "colab": {}
      },
      "source": [
        "# Handling the missing values if any \n",
        "X.fillna(method ='ffill', inplace = True) "
      ],
      "execution_count": null,
      "outputs": []
    },
    {
      "cell_type": "code",
      "metadata": {
        "id": "Bd1_QGPGjKp2",
        "colab_type": "code",
        "colab": {
          "base_uri": "https://localhost:8080/",
          "height": 204
        },
        "outputId": "7fe90298-f736-4aec-d227-c9401fc987cb"
      },
      "source": [
        "X.head(5)"
      ],
      "execution_count": null,
      "outputs": [
        {
          "output_type": "execute_result",
          "data": {
            "text/html": [
              "<div>\n",
              "<style scoped>\n",
              "    .dataframe tbody tr th:only-of-type {\n",
              "        vertical-align: middle;\n",
              "    }\n",
              "\n",
              "    .dataframe tbody tr th {\n",
              "        vertical-align: top;\n",
              "    }\n",
              "\n",
              "    .dataframe thead th {\n",
              "        text-align: right;\n",
              "    }\n",
              "</style>\n",
              "<table border=\"1\" class=\"dataframe\">\n",
              "  <thead>\n",
              "    <tr style=\"text-align: right;\">\n",
              "      <th></th>\n",
              "      <th>Age</th>\n",
              "      <th>Annual Income (k$)</th>\n",
              "      <th>Spending Score (1-100)</th>\n",
              "    </tr>\n",
              "  </thead>\n",
              "  <tbody>\n",
              "    <tr>\n",
              "      <th>0</th>\n",
              "      <td>19</td>\n",
              "      <td>15</td>\n",
              "      <td>39</td>\n",
              "    </tr>\n",
              "    <tr>\n",
              "      <th>1</th>\n",
              "      <td>21</td>\n",
              "      <td>15</td>\n",
              "      <td>81</td>\n",
              "    </tr>\n",
              "    <tr>\n",
              "      <th>2</th>\n",
              "      <td>20</td>\n",
              "      <td>16</td>\n",
              "      <td>6</td>\n",
              "    </tr>\n",
              "    <tr>\n",
              "      <th>3</th>\n",
              "      <td>23</td>\n",
              "      <td>16</td>\n",
              "      <td>77</td>\n",
              "    </tr>\n",
              "    <tr>\n",
              "      <th>4</th>\n",
              "      <td>31</td>\n",
              "      <td>17</td>\n",
              "      <td>40</td>\n",
              "    </tr>\n",
              "  </tbody>\n",
              "</table>\n",
              "</div>"
            ],
            "text/plain": [
              "   Age  Annual Income (k$)  Spending Score (1-100)\n",
              "0   19                  15                      39\n",
              "1   21                  15                      81\n",
              "2   20                  16                       6\n",
              "3   23                  16                      77\n",
              "4   31                  17                      40"
            ]
          },
          "metadata": {
            "tags": []
          },
          "execution_count": 189
        }
      ]
    },
    {
      "cell_type": "markdown",
      "metadata": {
        "id": "M5msNfIzgSKv",
        "colab_type": "text"
      },
      "source": [
        "Preprocessing the Data"
      ]
    },
    {
      "cell_type": "code",
      "metadata": {
        "id": "Js5nXYBqgQCJ",
        "colab_type": "code",
        "colab": {}
      },
      "source": [
        "#Scaling the data to bring all the attributes to a comparable level \n",
        "scaler = StandardScaler() \n",
        "X_scaled = scaler.fit_transform(X) "
      ],
      "execution_count": null,
      "outputs": []
    },
    {
      "cell_type": "code",
      "metadata": {
        "id": "LozKE7xMgWM0",
        "colab_type": "code",
        "colab": {}
      },
      "source": [
        "# Normalizing the data so that the data \n",
        "# approximately follows a Gaussian distribution \n",
        "X_normalized = normalize(X_scaled) "
      ],
      "execution_count": null,
      "outputs": []
    },
    {
      "cell_type": "code",
      "metadata": {
        "id": "3QimGwSXgYeR",
        "colab_type": "code",
        "colab": {}
      },
      "source": [
        "# Converting the numpy array into a pandas DataFrame \n",
        "X_normalized = pd.DataFrame(X_normalized) "
      ],
      "execution_count": null,
      "outputs": []
    },
    {
      "cell_type": "code",
      "metadata": {
        "id": "3RO-x48igeoo",
        "colab_type": "code",
        "colab": {
          "base_uri": "https://localhost:8080/",
          "height": 204
        },
        "outputId": "29f1a72d-54ae-482f-ab00-731ccdb33971"
      },
      "source": [
        "X_normalized.head(5)"
      ],
      "execution_count": null,
      "outputs": [
        {
          "output_type": "execute_result",
          "data": {
            "text/html": [
              "<div>\n",
              "<style scoped>\n",
              "    .dataframe tbody tr th:only-of-type {\n",
              "        vertical-align: middle;\n",
              "    }\n",
              "\n",
              "    .dataframe tbody tr th {\n",
              "        vertical-align: top;\n",
              "    }\n",
              "\n",
              "    .dataframe thead th {\n",
              "        text-align: right;\n",
              "    }\n",
              "</style>\n",
              "<table border=\"1\" class=\"dataframe\">\n",
              "  <thead>\n",
              "    <tr style=\"text-align: right;\">\n",
              "      <th></th>\n",
              "      <th>0</th>\n",
              "      <th>1</th>\n",
              "      <th>2</th>\n",
              "    </tr>\n",
              "  </thead>\n",
              "  <tbody>\n",
              "    <tr>\n",
              "      <th>0</th>\n",
              "      <td>-0.622173</td>\n",
              "      <td>-0.759499</td>\n",
              "      <td>-0.189897</td>\n",
              "    </tr>\n",
              "    <tr>\n",
              "      <th>1</th>\n",
              "      <td>-0.518894</td>\n",
              "      <td>-0.704396</td>\n",
              "      <td>0.484330</td>\n",
              "    </tr>\n",
              "    <tr>\n",
              "      <th>2</th>\n",
              "      <td>-0.488556</td>\n",
              "      <td>-0.614244</td>\n",
              "      <td>-0.619691</td>\n",
              "    </tr>\n",
              "    <tr>\n",
              "      <th>3</th>\n",
              "      <td>-0.495541</td>\n",
              "      <td>-0.740949</td>\n",
              "      <td>0.453247</td>\n",
              "    </tr>\n",
              "    <tr>\n",
              "      <th>4</th>\n",
              "      <td>-0.313049</td>\n",
              "      <td>-0.923896</td>\n",
              "      <td>-0.220036</td>\n",
              "    </tr>\n",
              "  </tbody>\n",
              "</table>\n",
              "</div>"
            ],
            "text/plain": [
              "          0         1         2\n",
              "0 -0.622173 -0.759499 -0.189897\n",
              "1 -0.518894 -0.704396  0.484330\n",
              "2 -0.488556 -0.614244 -0.619691\n",
              "3 -0.495541 -0.740949  0.453247\n",
              "4 -0.313049 -0.923896 -0.220036"
            ]
          },
          "metadata": {
            "tags": []
          },
          "execution_count": 171
        }
      ]
    },
    {
      "cell_type": "code",
      "metadata": {
        "id": "k88wNgJPggJx",
        "colab_type": "code",
        "colab": {}
      },
      "source": [
        "# Renaming the columns \n",
        "X_normalized.columns = X.columns "
      ],
      "execution_count": null,
      "outputs": []
    },
    {
      "cell_type": "code",
      "metadata": {
        "id": "GTdDOpgOgiku",
        "colab_type": "code",
        "colab": {
          "base_uri": "https://localhost:8080/",
          "height": 204
        },
        "outputId": "850c095b-c35e-435b-b6c5-969a10bb8bd4"
      },
      "source": [
        "X_normalized.head(5)"
      ],
      "execution_count": null,
      "outputs": [
        {
          "output_type": "execute_result",
          "data": {
            "text/html": [
              "<div>\n",
              "<style scoped>\n",
              "    .dataframe tbody tr th:only-of-type {\n",
              "        vertical-align: middle;\n",
              "    }\n",
              "\n",
              "    .dataframe tbody tr th {\n",
              "        vertical-align: top;\n",
              "    }\n",
              "\n",
              "    .dataframe thead th {\n",
              "        text-align: right;\n",
              "    }\n",
              "</style>\n",
              "<table border=\"1\" class=\"dataframe\">\n",
              "  <thead>\n",
              "    <tr style=\"text-align: right;\">\n",
              "      <th></th>\n",
              "      <th>Age</th>\n",
              "      <th>Annual Income (k$)</th>\n",
              "      <th>Spending Score (1-100)</th>\n",
              "    </tr>\n",
              "  </thead>\n",
              "  <tbody>\n",
              "    <tr>\n",
              "      <th>0</th>\n",
              "      <td>-0.622173</td>\n",
              "      <td>-0.759499</td>\n",
              "      <td>-0.189897</td>\n",
              "    </tr>\n",
              "    <tr>\n",
              "      <th>1</th>\n",
              "      <td>-0.518894</td>\n",
              "      <td>-0.704396</td>\n",
              "      <td>0.484330</td>\n",
              "    </tr>\n",
              "    <tr>\n",
              "      <th>2</th>\n",
              "      <td>-0.488556</td>\n",
              "      <td>-0.614244</td>\n",
              "      <td>-0.619691</td>\n",
              "    </tr>\n",
              "    <tr>\n",
              "      <th>3</th>\n",
              "      <td>-0.495541</td>\n",
              "      <td>-0.740949</td>\n",
              "      <td>0.453247</td>\n",
              "    </tr>\n",
              "    <tr>\n",
              "      <th>4</th>\n",
              "      <td>-0.313049</td>\n",
              "      <td>-0.923896</td>\n",
              "      <td>-0.220036</td>\n",
              "    </tr>\n",
              "  </tbody>\n",
              "</table>\n",
              "</div>"
            ],
            "text/plain": [
              "        Age  Annual Income (k$)  Spending Score (1-100)\n",
              "0 -0.622173           -0.759499               -0.189897\n",
              "1 -0.518894           -0.704396                0.484330\n",
              "2 -0.488556           -0.614244               -0.619691\n",
              "3 -0.495541           -0.740949                0.453247\n",
              "4 -0.313049           -0.923896               -0.220036"
            ]
          },
          "metadata": {
            "tags": []
          },
          "execution_count": 173
        }
      ]
    },
    {
      "cell_type": "markdown",
      "metadata": {
        "id": "04t661ZLgrEj",
        "colab_type": "text"
      },
      "source": [
        "Building the Clustering Model"
      ]
    },
    {
      "cell_type": "code",
      "metadata": {
        "id": "bX64hOt6gj_s",
        "colab_type": "code",
        "colab": {}
      },
      "source": [
        "# Building the OPTICS Clustering model \n",
        "optics_model = OPTICS(min_samples = 10, xi = 0.05, min_cluster_size = 0.05) "
      ],
      "execution_count": null,
      "outputs": []
    },
    {
      "cell_type": "code",
      "metadata": {
        "id": "ZlF2IobYgwcA",
        "colab_type": "code",
        "colab": {
          "base_uri": "https://localhost:8080/",
          "height": 85
        },
        "outputId": "c5fb3e60-9462-42cd-b162-631e980f848c"
      },
      "source": [
        "# Training the model \n",
        "optics_model.fit(X_normalized) "
      ],
      "execution_count": null,
      "outputs": [
        {
          "output_type": "execute_result",
          "data": {
            "text/plain": [
              "OPTICS(algorithm='auto', cluster_method='xi', eps=None, leaf_size=30,\n",
              "       max_eps=inf, metric='minkowski', metric_params=None,\n",
              "       min_cluster_size=0.05, min_samples=10, n_jobs=None, p=2,\n",
              "       predecessor_correction=True, xi=0.05)"
            ]
          },
          "metadata": {
            "tags": []
          },
          "execution_count": 175
        }
      ]
    },
    {
      "cell_type": "markdown",
      "metadata": {
        "id": "3ZWD3TyFgzvt",
        "colab_type": "text"
      },
      "source": [
        "Storing the results of the training"
      ]
    },
    {
      "cell_type": "code",
      "metadata": {
        "id": "GrKfQaHngxx_",
        "colab_type": "code",
        "colab": {}
      },
      "source": [
        "# Producing the labels according to the DBSCAN technique with eps = 0.5 \n",
        "labels1 = cluster_optics_dbscan(reachability = optics_model.reachability_, \n",
        "                                   core_distances = optics_model.core_distances_, \n",
        "                                   ordering = optics_model.ordering_, eps = 0.5) "
      ],
      "execution_count": null,
      "outputs": []
    },
    {
      "cell_type": "code",
      "metadata": {
        "id": "A_68YzREg3di",
        "colab_type": "code",
        "colab": {}
      },
      "source": [
        "# Producing the labels according to the DBSCAN technique with eps = 2.0 \n",
        "labels2 = cluster_optics_dbscan(reachability = optics_model.reachability_, \n",
        "                                   core_distances = optics_model.core_distances_, \n",
        "                                   ordering = optics_model.ordering_, eps = 2) "
      ],
      "execution_count": null,
      "outputs": []
    },
    {
      "cell_type": "code",
      "metadata": {
        "id": "4DdQgvpgg5QS",
        "colab_type": "code",
        "colab": {}
      },
      "source": [
        "# Creating a numpy array with numbers at equal spaces till \n",
        "# the specified range \n",
        "space = np.arange(len(X_normalized)) "
      ],
      "execution_count": null,
      "outputs": []
    },
    {
      "cell_type": "code",
      "metadata": {
        "id": "F_nG53vAg7sX",
        "colab_type": "code",
        "colab": {}
      },
      "source": [
        "# Storing the reachability distance of each point \n",
        "reachability = optics_model.reachability_[optics_model.ordering_] "
      ],
      "execution_count": null,
      "outputs": []
    },
    {
      "cell_type": "code",
      "metadata": {
        "id": "O3oJIDOOg9yy",
        "colab_type": "code",
        "colab": {}
      },
      "source": [
        "# Storing the cluster labels of each point \n",
        "# Question is whether these labels are in the right order of the data \n",
        "labels = optics_model.labels_[optics_model.ordering_] "
      ],
      "execution_count": null,
      "outputs": []
    },
    {
      "cell_type": "code",
      "metadata": {
        "id": "BgEvFXelg_o9",
        "colab_type": "code",
        "colab": {
          "base_uri": "https://localhost:8080/",
          "height": 170
        },
        "outputId": "a73572f4-eb39-4829-c1e6-7735d2e8f3fc"
      },
      "source": [
        "print(labels) "
      ],
      "execution_count": null,
      "outputs": [
        {
          "output_type": "stream",
          "text": [
            "[-1 -1 -1  0  0  0  0  0  0  0  0  0  0  0  0  0  0  0  0  0  0  0  0  0\n",
            "  0  0  0  0  0  0  0  0 -1 -1 -1 -1  1  1  1  1  1  1  1  1  1  1  1  1\n",
            "  1  1  1  1  1 -1 -1 -1 -1 -1 -1 -1 -1 -1 -1 -1 -1 -1 -1  2  2  2  2  2\n",
            "  2  2  2  2  2  2  2 -1 -1 -1 -1 -1 -1 -1 -1 -1 -1 -1 -1 -1 -1 -1 -1 -1\n",
            " -1  3  3  3  3  3  3  3  3  3  3  3  3  3 -1 -1 -1 -1 -1  4  4  4  4  4\n",
            "  4  4  4  4  4  4  4  4  4  4  4  4  4  4  4  4  4  4  4  4  4  4  4  4\n",
            "  4 -1 -1 -1 -1 -1 -1 -1 -1 -1 -1 -1 -1 -1 -1 -1  5  5  5  5  5  5  5  5\n",
            "  5  5  5  5  5  5  5  5  5  5  5  5  5  5  5  5  5  5  5  5  5  5  5  5\n",
            "  5  5  5  5  5  5  5  5]\n"
          ],
          "name": "stdout"
        }
      ]
    },
    {
      "cell_type": "code",
      "metadata": {
        "id": "hXcLxXb4igeX",
        "colab_type": "code",
        "colab": {}
      },
      "source": [
        "#labels"
      ],
      "execution_count": null,
      "outputs": []
    },
    {
      "cell_type": "code",
      "metadata": {
        "id": "Qod0B9c4jQxp",
        "colab_type": "code",
        "colab": {}
      },
      "source": [
        "lb=pd.DataFrame(labels)"
      ],
      "execution_count": null,
      "outputs": []
    },
    {
      "cell_type": "code",
      "metadata": {
        "id": "Xv4S7_J6jVa3",
        "colab_type": "code",
        "colab": {
          "base_uri": "https://localhost:8080/",
          "height": 359
        },
        "outputId": "7a9933f1-93af-416a-ddf9-4c57b13ed640"
      },
      "source": [
        "# Rename the Label to Cluster Label\n",
        "lb.head(10)"
      ],
      "execution_count": null,
      "outputs": [
        {
          "output_type": "execute_result",
          "data": {
            "text/html": [
              "<div>\n",
              "<style scoped>\n",
              "    .dataframe tbody tr th:only-of-type {\n",
              "        vertical-align: middle;\n",
              "    }\n",
              "\n",
              "    .dataframe tbody tr th {\n",
              "        vertical-align: top;\n",
              "    }\n",
              "\n",
              "    .dataframe thead th {\n",
              "        text-align: right;\n",
              "    }\n",
              "</style>\n",
              "<table border=\"1\" class=\"dataframe\">\n",
              "  <thead>\n",
              "    <tr style=\"text-align: right;\">\n",
              "      <th></th>\n",
              "      <th>0</th>\n",
              "    </tr>\n",
              "  </thead>\n",
              "  <tbody>\n",
              "    <tr>\n",
              "      <th>0</th>\n",
              "      <td>-1</td>\n",
              "    </tr>\n",
              "    <tr>\n",
              "      <th>1</th>\n",
              "      <td>-1</td>\n",
              "    </tr>\n",
              "    <tr>\n",
              "      <th>2</th>\n",
              "      <td>-1</td>\n",
              "    </tr>\n",
              "    <tr>\n",
              "      <th>3</th>\n",
              "      <td>0</td>\n",
              "    </tr>\n",
              "    <tr>\n",
              "      <th>4</th>\n",
              "      <td>0</td>\n",
              "    </tr>\n",
              "    <tr>\n",
              "      <th>5</th>\n",
              "      <td>0</td>\n",
              "    </tr>\n",
              "    <tr>\n",
              "      <th>6</th>\n",
              "      <td>0</td>\n",
              "    </tr>\n",
              "    <tr>\n",
              "      <th>7</th>\n",
              "      <td>0</td>\n",
              "    </tr>\n",
              "    <tr>\n",
              "      <th>8</th>\n",
              "      <td>0</td>\n",
              "    </tr>\n",
              "    <tr>\n",
              "      <th>9</th>\n",
              "      <td>0</td>\n",
              "    </tr>\n",
              "  </tbody>\n",
              "</table>\n",
              "</div>"
            ],
            "text/plain": [
              "   0\n",
              "0 -1\n",
              "1 -1\n",
              "2 -1\n",
              "3  0\n",
              "4  0\n",
              "5  0\n",
              "6  0\n",
              "7  0\n",
              "8  0\n",
              "9  0"
            ]
          },
          "metadata": {
            "tags": []
          },
          "execution_count": 200
        }
      ]
    },
    {
      "cell_type": "code",
      "metadata": {
        "id": "VrMAGQfBjfBx",
        "colab_type": "code",
        "colab": {}
      },
      "source": [
        "#Lets try to append the Labels to the Original Dataset (X in this case)\n",
        "# \n",
        "mergedDf = X.merge(lb, left_index=True, right_index=True)"
      ],
      "execution_count": null,
      "outputs": []
    },
    {
      "cell_type": "code",
      "metadata": {
        "id": "d9rCpWH5kdzL",
        "colab_type": "code",
        "colab": {}
      },
      "source": [
        "mergedDf.to_csv('out.csv')"
      ],
      "execution_count": null,
      "outputs": []
    },
    {
      "cell_type": "code",
      "metadata": {
        "id": "Fy_PcS0gkEnh",
        "colab_type": "code",
        "colab": {
          "base_uri": "https://localhost:8080/",
          "height": 204
        },
        "outputId": "f7ec9c27-8dd3-4158-ef3e-534d319ca8a6"
      },
      "source": [
        "mergedDf.head()"
      ],
      "execution_count": null,
      "outputs": [
        {
          "output_type": "execute_result",
          "data": {
            "text/html": [
              "<div>\n",
              "<style scoped>\n",
              "    .dataframe tbody tr th:only-of-type {\n",
              "        vertical-align: middle;\n",
              "    }\n",
              "\n",
              "    .dataframe tbody tr th {\n",
              "        vertical-align: top;\n",
              "    }\n",
              "\n",
              "    .dataframe thead th {\n",
              "        text-align: right;\n",
              "    }\n",
              "</style>\n",
              "<table border=\"1\" class=\"dataframe\">\n",
              "  <thead>\n",
              "    <tr style=\"text-align: right;\">\n",
              "      <th></th>\n",
              "      <th>Age</th>\n",
              "      <th>Annual Income (k$)</th>\n",
              "      <th>Spending Score (1-100)</th>\n",
              "      <th>0</th>\n",
              "    </tr>\n",
              "  </thead>\n",
              "  <tbody>\n",
              "    <tr>\n",
              "      <th>0</th>\n",
              "      <td>19</td>\n",
              "      <td>15</td>\n",
              "      <td>39</td>\n",
              "      <td>-1</td>\n",
              "    </tr>\n",
              "    <tr>\n",
              "      <th>1</th>\n",
              "      <td>21</td>\n",
              "      <td>15</td>\n",
              "      <td>81</td>\n",
              "      <td>-1</td>\n",
              "    </tr>\n",
              "    <tr>\n",
              "      <th>2</th>\n",
              "      <td>20</td>\n",
              "      <td>16</td>\n",
              "      <td>6</td>\n",
              "      <td>-1</td>\n",
              "    </tr>\n",
              "    <tr>\n",
              "      <th>3</th>\n",
              "      <td>23</td>\n",
              "      <td>16</td>\n",
              "      <td>77</td>\n",
              "      <td>0</td>\n",
              "    </tr>\n",
              "    <tr>\n",
              "      <th>4</th>\n",
              "      <td>31</td>\n",
              "      <td>17</td>\n",
              "      <td>40</td>\n",
              "      <td>0</td>\n",
              "    </tr>\n",
              "  </tbody>\n",
              "</table>\n",
              "</div>"
            ],
            "text/plain": [
              "   Age  Annual Income (k$)  Spending Score (1-100)  0\n",
              "0   19                  15                      39 -1\n",
              "1   21                  15                      81 -1\n",
              "2   20                  16                       6 -1\n",
              "3   23                  16                      77  0\n",
              "4   31                  17                      40  0"
            ]
          },
          "metadata": {
            "tags": []
          },
          "execution_count": 193
        }
      ]
    },
    {
      "cell_type": "code",
      "metadata": {
        "id": "dB2u0DPkl67A",
        "colab_type": "code",
        "colab": {
          "base_uri": "https://localhost:8080/",
          "height": 187
        },
        "outputId": "c7939bf5-1fdd-458e-b3ab-92bec3793243"
      },
      "source": [
        "labels1 # Only 2 cluster Solution by DBSCAN"
      ],
      "execution_count": null,
      "outputs": [
        {
          "output_type": "execute_result",
          "data": {
            "text/plain": [
              "array([0, 0, 0, 0, 0, 0, 0, 0, 0, 0, 0, 0, 0, 0, 0, 0, 0, 0, 0, 0, 0, 0,\n",
              "       0, 0, 0, 0, 0, 0, 0, 0, 0, 0, 0, 0, 0, 0, 0, 0, 0, 0, 0, 0, 0, 0,\n",
              "       0, 0, 0, 0, 0, 0, 0, 0, 0, 0, 0, 0, 0, 0, 0, 0, 0, 0, 0, 0, 0, 0,\n",
              "       0, 0, 0, 0, 0, 0, 0, 0, 0, 0, 0, 0, 0, 0, 0, 0, 0, 0, 0, 0, 0, 0,\n",
              "       0, 0, 0, 0, 0, 0, 0, 0, 0, 0, 0, 0, 0, 0, 0, 0, 0, 0, 0, 0, 0, 0,\n",
              "       0, 0, 0, 0, 0, 0, 0, 0, 0, 0, 0, 0, 1, 1, 0, 1, 0, 1, 0, 1, 0, 1,\n",
              "       0, 1, 0, 1, 0, 1, 0, 1, 0, 1, 0, 1, 0, 1, 0, 1, 0, 1, 0, 1, 0, 1,\n",
              "       0, 1, 0, 1, 0, 1, 0, 1, 0, 1, 0, 1, 0, 1, 0, 1, 0, 1, 0, 1, 0, 1,\n",
              "       0, 1, 0, 1, 0, 1, 0, 1, 0, 1, 0, 1, 0, 1, 0, 1, 0, 1, 0, 1, 0, 1,\n",
              "       0, 1])"
            ]
          },
          "metadata": {
            "tags": []
          },
          "execution_count": 196
        }
      ]
    },
    {
      "cell_type": "code",
      "metadata": {
        "id": "IHRowZ-JmDGy",
        "colab_type": "code",
        "colab": {
          "base_uri": "https://localhost:8080/",
          "height": 187
        },
        "outputId": "901f8a0c-8a07-4217-b29d-72dbd037c226"
      },
      "source": [
        "labels2 # Just 1 cluster - Very much Meaningless "
      ],
      "execution_count": null,
      "outputs": [
        {
          "output_type": "execute_result",
          "data": {
            "text/plain": [
              "array([0, 0, 0, 0, 0, 0, 0, 0, 0, 0, 0, 0, 0, 0, 0, 0, 0, 0, 0, 0, 0, 0,\n",
              "       0, 0, 0, 0, 0, 0, 0, 0, 0, 0, 0, 0, 0, 0, 0, 0, 0, 0, 0, 0, 0, 0,\n",
              "       0, 0, 0, 0, 0, 0, 0, 0, 0, 0, 0, 0, 0, 0, 0, 0, 0, 0, 0, 0, 0, 0,\n",
              "       0, 0, 0, 0, 0, 0, 0, 0, 0, 0, 0, 0, 0, 0, 0, 0, 0, 0, 0, 0, 0, 0,\n",
              "       0, 0, 0, 0, 0, 0, 0, 0, 0, 0, 0, 0, 0, 0, 0, 0, 0, 0, 0, 0, 0, 0,\n",
              "       0, 0, 0, 0, 0, 0, 0, 0, 0, 0, 0, 0, 0, 0, 0, 0, 0, 0, 0, 0, 0, 0,\n",
              "       0, 0, 0, 0, 0, 0, 0, 0, 0, 0, 0, 0, 0, 0, 0, 0, 0, 0, 0, 0, 0, 0,\n",
              "       0, 0, 0, 0, 0, 0, 0, 0, 0, 0, 0, 0, 0, 0, 0, 0, 0, 0, 0, 0, 0, 0,\n",
              "       0, 0, 0, 0, 0, 0, 0, 0, 0, 0, 0, 0, 0, 0, 0, 0, 0, 0, 0, 0, 0, 0,\n",
              "       0, 0])"
            ]
          },
          "metadata": {
            "tags": []
          },
          "execution_count": 197
        }
      ]
    },
    {
      "cell_type": "markdown",
      "metadata": {
        "id": "ojNLzeIhhDvx",
        "colab_type": "text"
      },
      "source": [
        "Visualizing the Results\n",
        "\n",
        "This is very cool way of looking at the clusters. You can compare the clusters from DBSCAN with the Optics Clustering method"
      ]
    },
    {
      "cell_type": "code",
      "metadata": {
        "id": "ZHLn-sQ7hAza",
        "colab_type": "code",
        "colab": {
          "base_uri": "https://localhost:8080/",
          "height": 513
        },
        "outputId": "907e3df8-8147-4251-8e13-4603c36e5e05"
      },
      "source": [
        "\n",
        "# Defining the framework of the visualization \n",
        "plt.figure(figsize =(10, 7)) \n",
        "G = gridspec.GridSpec(2, 3) \n",
        "ax1 = plt.subplot(G[0, :]) \n",
        "ax2 = plt.subplot(G[1, 0]) \n",
        "ax3 = plt.subplot(G[1, 1]) \n",
        "ax4 = plt.subplot(G[1, 2]) \n",
        "  \n",
        "# Plotting the Reachability-Distance Plot \n",
        "colors = ['c.', 'b.', 'r.', 'y.', 'g.'] \n",
        "for Class, colour in zip(range(0, 5), colors): \n",
        "    Xk = space[labels == Class] \n",
        "    Rk = reachability[labels == Class] \n",
        "    ax1.plot(Xk, Rk, colour, alpha = 0.3) \n",
        "ax1.plot(space[labels == -1], reachability[labels == -1], 'k.', alpha = 0.3) \n",
        "ax1.plot(space, np.full_like(space, 2., dtype = float), 'k-', alpha = 0.5) \n",
        "ax1.plot(space, np.full_like(space, 0.5, dtype = float), 'k-.', alpha = 0.5) \n",
        "ax1.set_ylabel('Reachability Distance') \n",
        "ax1.set_title('Reachability Plot') \n",
        "  \n",
        "# Plotting the OPTICS Clustering \n",
        "colors = ['c.', 'b.', 'r.', 'y.', 'g.'] \n",
        "for Class, colour in zip(range(0, 5), colors): \n",
        "    Xk = X_normalized[optics_model.labels_ == Class] \n",
        "    ax2.plot(Xk.iloc[:, 0], Xk.iloc[:, 1], colour, alpha = 0.3) \n",
        "      \n",
        "ax2.plot(X_normalized.iloc[optics_model.labels_ == -1, 0], \n",
        "        X_normalized.iloc[optics_model.labels_ == -1, 1], \n",
        "       'k+', alpha = 0.1) \n",
        "ax2.set_title('OPTICS Clustering') \n",
        "  \n",
        "# Plotting the DBSCAN Clustering with eps = 0.5 \n",
        "colors = ['c', 'b', 'r', 'y', 'g', 'greenyellow'] \n",
        "for Class, colour in zip(range(0, 6), colors): \n",
        "    Xk = X_normalized[labels1 == Class] \n",
        "    ax3.plot(Xk.iloc[:, 0], Xk.iloc[:, 1], colour, alpha = 0.3, marker ='.') \n",
        "        \n",
        "ax3.plot(X_normalized.iloc[labels1 == -1, 0], \n",
        "        X_normalized.iloc[labels1 == -1, 1], \n",
        "       'k+', alpha = 0.1) \n",
        "ax3.set_title('DBSCAN clustering with eps = 0.5') \n",
        "  \n",
        "# Plotting the DBSCAN Clustering with eps = 2.0 \n",
        "colors = ['c.', 'y.', 'm.', 'g.'] \n",
        "for Class, colour in zip(range(0, 4), colors): \n",
        "    Xk = X_normalized.iloc[labels2 == Class] \n",
        "    ax4.plot(Xk.iloc[:, 0], Xk.iloc[:, 1], colour, alpha = 0.3) \n",
        "          \n",
        "ax4.plot(X_normalized.iloc[labels2 == -1, 0], \n",
        "        X_normalized.iloc[labels2 == -1, 1], \n",
        "       'k+', alpha = 0.1) \n",
        "ax4.set_title('DBSCAN Clustering with eps = 2.0') \n",
        "  \n",
        "  \n",
        "plt.tight_layout() \n",
        "plt.show() "
      ],
      "execution_count": null,
      "outputs": [
        {
          "output_type": "display_data",
          "data": {
            "image/png": "[encoded data removed]",
            "text/plain": [
              "<Figure size 720x504 with 4 Axes>"
            ]
          },
          "metadata": {
            "tags": [],
            "needs_background": "light"
          }
        }
      ]
    },
    {
      "cell_type": "code",
      "metadata": {
        "id": "_1o2PE9WhTUU",
        "colab_type": "code",
        "colab": {}
      },
      "source": [
        ""
      ],
      "execution_count": null,
      "outputs": []
    }
  ]
}